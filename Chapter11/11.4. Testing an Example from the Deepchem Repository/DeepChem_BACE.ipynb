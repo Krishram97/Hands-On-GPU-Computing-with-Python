{
  "nbformat": 4,
  "nbformat_minor": 0,
  "metadata": {
    "colab": {
      "name": "DeepChem-BACE.ipynb",
      "version": "0.3.2",
      "provenance": [],
      "collapsed_sections": [],
      "include_colab_link": true
    },
    "kernelspec": {
      "name": "python3",
      "display_name": "Python 3"
    },
    "accelerator": "GPU"
  },
  "cells": [
    {
      "cell_type": "markdown",
      "metadata": {
        "id": "view-in-github",
        "colab_type": "text"
      },
      "source": [
        "<a href=\"https://colab.research.google.com/github/avimanyu786/B11179_Hands-On-GPU-Computing-with-Python-/blob/master/DeepChem_BACE.ipynb\" target=\"_parent\"><img src=\"https://colab.research.google.com/assets/colab-badge.svg\" alt=\"Open In Colab\"/></a>"
      ]
    },
    {
      "metadata": {
        "id": "KZCpIuUDM8ji",
        "colab_type": "code",
        "outputId": "39dc3508-d183-456b-c1a7-8cdf5311670a",
        "colab": {
          "base_uri": "https://localhost:8080/",
          "height": 208
        }
      },
      "cell_type": "code",
      "source": [
        "!wget https://repo.continuum.io/miniconda/Miniconda3-latest-Linux-x86_64.sh -O miniconda.sh"
      ],
      "execution_count": 0,
      "outputs": [
        {
          "output_type": "stream",
          "text": [
            "--2019-04-17 17:40:27--  https://repo.continuum.io/miniconda/Miniconda3-latest-Linux-x86_64.sh\n",
            "Resolving repo.continuum.io (repo.continuum.io)... 104.18.201.79, 104.18.200.79, 2606:4700::6812:c94f, ...\n",
            "Connecting to repo.continuum.io (repo.continuum.io)|104.18.201.79|:443... connected.\n",
            "HTTP request sent, awaiting response... 200 OK\n",
            "Length: 69826864 (67M) [application/x-sh]\n",
            "Saving to: ‘miniconda.sh’\n",
            "\n",
            "\rminiconda.sh          0%[                    ]       0  --.-KB/s               \rminiconda.sh         35%[======>             ]  23.76M   119MB/s               \rminiconda.sh         67%[============>       ]  44.63M   111MB/s               \rminiconda.sh        100%[===================>]  66.59M   112MB/s    in 0.6s    \n",
            "\n",
            "2019-04-17 17:40:28 (112 MB/s) - ‘miniconda.sh’ saved [69826864/69826864]\n",
            "\n"
          ],
          "name": "stdout"
        }
      ]
    },
    {
      "metadata": {
        "id": "37SliQYktUwS",
        "colab_type": "code",
        "colab": {}
      },
      "cell_type": "code",
      "source": [
        ""
      ],
      "execution_count": 0,
      "outputs": []
    },
    {
      "metadata": {
        "id": "zzbMSJOiNsE8",
        "colab_type": "code",
        "outputId": "1e5a8c4c-09b8-4c84-8029-9aad15ce4b6a",
        "colab": {
          "base_uri": "https://localhost:8080/",
          "height": 9760
        }
      },
      "cell_type": "code",
      "source": [
        "!chmod +x miniconda.sh\n",
        "!bash ./miniconda.sh -b -f -p /usr/local\n",
        "!conda install -y --prefix /usr/local -c deepchem -c rdkit -c conda-forge -c omnia deepchem-gpu=2.1.0"
      ],
      "execution_count": 0,
      "outputs": [
        {
          "output_type": "stream",
          "text": [
            "PREFIX=/usr/local\n",
            "reinstalling: python-3.7.1-h0371630_7 ...\n",
            "Python 3.7.1\n",
            "reinstalling: ca-certificates-2018.03.07-0 ...\n",
            "reinstalling: conda-env-2.6.0-1 ...\n",
            "reinstalling: libgcc-ng-8.2.0-hdf63c60_1 ...\n",
            "reinstalling: libstdcxx-ng-8.2.0-hdf63c60_1 ...\n",
            "reinstalling: libffi-3.2.1-hd88cf55_4 ...\n",
            "reinstalling: ncurses-6.1-he6710b0_1 ...\n",
            "reinstalling: openssl-1.1.1a-h7b6447c_0 ...\n",
            "reinstalling: xz-5.2.4-h14c3975_4 ...\n",
            "reinstalling: yaml-0.1.7-had09818_2 ...\n",
            "reinstalling: zlib-1.2.11-h7b6447c_3 ...\n",
            "reinstalling: libedit-3.1.20170329-h6b74fdf_2 ...\n",
            "reinstalling: readline-7.0-h7b6447c_5 ...\n",
            "reinstalling: tk-8.6.8-hbc83047_0 ...\n",
            "reinstalling: sqlite-3.26.0-h7b6447c_0 ...\n",
            "reinstalling: asn1crypto-0.24.0-py37_0 ...\n",
            "reinstalling: certifi-2018.11.29-py37_0 ...\n",
            "reinstalling: chardet-3.0.4-py37_1 ...\n",
            "reinstalling: idna-2.8-py37_0 ...\n",
            "reinstalling: pycosat-0.6.3-py37h14c3975_0 ...\n",
            "reinstalling: pycparser-2.19-py37_0 ...\n",
            "reinstalling: pysocks-1.6.8-py37_0 ...\n",
            "reinstalling: ruamel_yaml-0.15.46-py37h14c3975_0 ...\n",
            "reinstalling: six-1.12.0-py37_0 ...\n",
            "reinstalling: cffi-1.11.5-py37he75722e_1 ...\n",
            "reinstalling: setuptools-40.6.3-py37_0 ...\n",
            "reinstalling: cryptography-2.4.2-py37h1ba5d50_0 ...\n",
            "reinstalling: wheel-0.32.3-py37_0 ...\n",
            "reinstalling: pip-18.1-py37_0 ...\n",
            "reinstalling: pyopenssl-18.0.0-py37_0 ...\n",
            "reinstalling: urllib3-1.24.1-py37_0 ...\n",
            "reinstalling: requests-2.21.0-py37_0 ...\n",
            "reinstalling: conda-4.5.12-py37_0 ...\n",
            "installation finished.\n",
            "WARNING:\n",
            "    You currently have a PYTHONPATH environment variable set. This may cause\n",
            "    unexpected behavior when running the Python interpreter in Miniconda3.\n",
            "    For best results, please verify that your PYTHONPATH only points to\n",
            "    directories of packages that are compatible with the Python interpreter\n",
            "    in Miniconda3: /usr/local\n",
            "Solving environment: - \b\b\\ \b\b| \b\b/ \b\b- \b\b\\ \b\b| \b\b/ \b\b- \b\b\\ \b\b| \b\b/ \b\b- \b\b\\ \b\b| \b\b/ \b\b- \b\b\\ \b\b| \b\b/ \b\b- \b\b\\ \b\b| \b\b/ \b\b- \b\b\\ \b\b| \b\b/ \b\b- \b\b\\ \b\b| \b\b/ \b\b- \b\b\\ \b\b| \b\b/ \b\b- \b\b\\ \b\b| \b\b/ \b\b- \b\b\\ \b\b| \b\b/ \b\b- \b\b\\ \b\b| \b\b/ \b\b- \b\b\\ \b\b| \b\b/ \b\b- \b\b\\ \b\b| \b\b/ \b\b- \b\b\\ \b\b| \b\b/ \b\b- \b\b\\ \b\b| \b\b/ \b\b- \b\b\\ \b\b| \b\b/ \b\b- \b\b\\ \b\b| \b\b/ \b\b- \b\b\\ \b\b| \b\b/ \b\b- \b\b\\ \b\b| \b\b/ \b\b- \b\b\\ \b\b| \b\b/ \b\b- \b\b\\ \b\b| \b\b/ \b\b- \b\b\\ \b\b| \b\b/ \b\b- \b\b\\ \b\b| \b\b/ \b\b- \b\b\\ \b\b| \b\b/ \b\b- \b\b\\ \b\b| \b\b/ \b\b- \b\b\\ \b\b| \b\b/ \b\b- \b\b\\ \b\b| \b\b/ \b\b- \b\b\\ \b\b| \b\b/ \b\b- \b\b\\ \b\b| \b\b/ \b\b- \b\b\\ \b\b| \b\b/ \b\b- \b\b\\ \b\b| \b\b/ \b\b- \b\b\\ \b\b| \b\b/ \b\b- \b\b\\ \b\b| \b\b/ \b\b- \b\b\\ \b\b| \b\b/ \b\b- \b\b\\ \b\b| \b\b/ \b\b- \b\b\\ \b\b| \b\b/ \b\b- \b\b\\ \b\b| \b\b/ \b\b- \b\b\\ \b\b| \b\b/ \b\b- \b\b\\ \b\b| \b\b/ \b\b- \b\b\\ \b\b| \b\b/ \b\b- \b\b\\ \b\b| \b\b/ \b\b- \b\b\\ \b\b| \b\b/ \b\b- \b\b\\ \b\b| \b\b/ \b\b- \b\b\\ \b\b| \b\b/ \b\b- \b\b\\ \b\b| \b\b/ \b\b- \b\b\\ \b\b| \b\b/ \b\b- \b\b\\ \b\b| \b\b/ \b\b- \b\b\\ \b\b| \b\b/ \b\b- \b\b\\ \b\b| \b\b/ \b\b- \b\b\\ \b\b| \b\b/ \b\b- \b\b\\ \b\b| \b\b/ \b\b- \b\b\\ \b\b| \b\b/ \b\b- \b\b\\ \b\b| \b\b/ \b\b- \b\b\\ \b\b| \b\b/ \b\b- \b\b\\ \b\b| \b\b/ \b\b- \b\b\\ \b\b| \b\b/ \b\b- \b\b\\ \b\b| \b\b/ \b\b- \b\b\\ \b\b| \b\b/ \b\b- \b\b\\ \b\b| \b\b/ \b\b- \b\b\\ \b\b| \b\b/ \b\b- \b\b\\ \b\b| \b\b/ \b\b- \b\b\\ \b\b| \b\b/ \b\b- \b\b\\ \b\b| \b\b/ \b\b- \b\b\\ \b\b| \b\b/ \b\b- \b\b\\ \b\b| \b\b/ \b\b- \b\b\\ \b\b| \b\b/ \b\b- \b\b\\ \b\b| \b\b/ \b\b- \b\b\\ \b\b| \b\b/ \b\b- \b\b\\ \b\b| \b\b/ \b\b- \b\b\\ \b\b| \b\b/ \b\b- \b\b\\ \b\b| \b\b/ \b\b- \b\b\\ \b\b| \b\b/ \b\b- \b\b\\ \b\b| \b\b/ \b\b- \b\b\\ \b\b| \b\b/ \b\b- \b\b\\ \b\b| \b\b/ \b\b- \b\b\\ \b\b| \b\b/ \b\b- \b\b\\ \b\b| \b\b/ \b\b- \b\b\\ \b\b| \b\b/ \b\b- \b\b\\ \b\b| \b\b/ \b\b- \b\b\\ \b\b| \b\b/ \b\b- \b\b\\ \b\b| \b\b/ \b\b- \b\b\\ \b\b| \b\b/ \b\b- \b\b\\ \b\b| \b\b/ \b\b- \b\b\\ \b\b| \b\b/ \b\b- \b\b\\ \b\b| \b\b/ \b\b- \b\b\\ \b\b| \b\b/ \b\b- \b\b\\ \b\b| \b\b/ \b\b- \b\b\\ \b\b| \b\b/ \b\b- \b\b\\ \b\b| \b\b/ \b\b- \b\b\\ \b\b| \b\b/ \b\b- \b\b\\ \b\b| \b\b/ \b\b- \b\b\\ \b\b| \b\b/ \b\b- \b\b\\ \b\b| \b\b/ \b\b- \b\b\\ \b\b| \b\b/ \b\b- \b\b\\ \b\b| \b\b/ \b\b- \b\b\\ \b\b| \b\b/ \b\b- \b\b\\ \b\b| \b\b/ \b\b- \b\b\\ \b\b| \b\b/ \b\b- \b\b\\ \b\b| \b\b/ \b\b- \b\b\\ \b\b| \b\b/ \b\b- \b\b\\ \b\b| \b\b/ \b\b- \b\b\\ \b\b| \b\b/ \b\b- \b\b\\ \b\b| \b\b/ \b\b- \b\b\\ \b\b| \b\b/ \b\b- \b\b\\ \b\b| \b\b/ \b\b- \b\b\\ \b\b| \b\b/ \b\b- \b\b\\ \b\b| \b\b/ \b\b- \b\b\\ \b\b| \b\b/ \b\b- \b\b\\ \b\b| \b\b/ \b\b- \b\b\\ \b\b| \b\b/ \b\b- \b\b\\ \b\b| \b\b/ \b\b- \b\b\\ \b\b| \b\b/ \b\b- \b\b\\ \b\b| \b\b/ \b\b- \b\b\\ \b\b| \b\b/ \b\b- \b\b\\ \b\b| \b\b/ \b\b- \b\b\\ \b\b| \b\b/ \b\b- \b\b\\ \b\b| \b\b/ \b\b- \b\b\\ \b\b| \b\b/ \b\b- \b\b\\ \b\b| \b\b/ \b\b- \b\b\\ \b\b| \b\b/ \b\b- \b\b\\ \b\b| \b\b/ \b\b- \b\b\\ \b\b| \b\b/ \b\b- \b\b\\ \b\b| \b\b/ \b\b- \b\b\\ \b\b| \b\b/ \b\b- \b\b\\ \b\b| \b\b/ \b\b- \b\b\\ \b\b| \b\b/ \b\b- \b\b\\ \b\b| \b\b/ \b\b- \b\b\\ \b\b| \b\b/ \b\b- \b\b\\ \b\b| \b\b/ \b\b- \b\b\\ \b\b| \b\b/ \b\b- \b\b\\ \b\b| \b\b/ \b\b- \b\b\\ \b\b| \b\b/ \b\b- \b\b\\ \b\b| \b\b/ \b\b- \b\b\\ \b\b| \b\b/ \b\b- \b\b\\ \b\b| \b\b/ \b\b- \b\b\\ \b\b| \b\b/ \b\b- \b\b\\ \b\b| \b\b/ \b\b- \b\b\\ \b\b| \b\b/ \b\b- \b\b\\ \b\b| \b\b/ \b\b- \b\b\\ \b\b| \b\b/ \b\b- \b\b\\ \b\b| \b\b/ \b\b- \b\b\\ \b\b| \b\b/ \b\b- \b\b\\ \b\b| \b\b/ \b\b- \b\b\\ \b\b| \b\b/ \b\b- \b\b\\ \b\b| \b\b/ \b\b- \b\b\\ \b\b| \b\b/ \b\b- \b\b\\ \b\b| \b\b/ \b\b- \b\b\\ \b\b| \b\b/ \b\b- \b\b\\ \b\b| \b\b/ \b\b- \b\b\\ \b\b| \b\b/ \b\b- \b\b\\ \b\b| \b\b/ \b\b- \b\b\\ \b\b| \b\b/ \b\b- \b\b\\ \b\b| \b\b/ \b\b- \b\b\\ \b\b| \b\b/ \b\b- \b\b\\ \b\b| \b\b/ \b\b- \b\b\\ \b\b| \b\b/ \b\b- \b\b\\ \b\b| \b\b/ \b\b- \b\b\\ \b\b| \b\b/ \b\b- \b\b\\ \b\b| \b\b/ \b\b- \b\b\\ \b\b| \b\b/ \b\b- \b\b\\ \b\b| \b\b/ \b\b- \b\b\\ \b\b| \b\b/ \b\b- \b\b\\ \b\b| \b\b/ \b\b- \b\b\\ \b\b| \b\b/ \b\b- \b\b\\ \b\b| \b\b/ \b\b- \b\b\\ \b\b| \b\b/ \b\b- \b\b\\ \b\b| \b\b/ \b\b- \b\b\\ \b\b| \b\b/ \b\b- \b\b\\ \b\b| \b\b/ \b\b- \b\b\\ \b\b| \b\b/ \b\b- \b\b\\ \b\b| \b\b/ \b\b- \b\b\\ \b\b| \b\b/ \b\b- \b\b\\ \b\b| \b\b/ \b\b- \b\b\\ \b\b| \b\b/ \b\b- \b\b\\ \b\b| \b\b/ \b\b- \b\b\\ \b\b| \b\b/ \b\b- \b\b\\ \b\b| \b\b/ \b\b- \b\b\\ \b\b| \b\b/ \b\b- \b\b\\ \b\b| \b\b/ \b\b- \b\b\\ \b\b| \b\b/ \b\b- \b\b\\ \b\b| \b\b/ \b\b- \b\b\\ \b\b| \b\b/ \b\b- \b\b\\ \b\b| \b\b/ \b\b- \b\b\\ \b\b| \b\b/ \b\b- \b\b\\ \b\b| \b\b/ \b\b- \b\b\\ \b\b| \b\b/ \b\b- \b\b\\ \b\b| \b\b/ \b\b- \b\b\\ \b\b| \b\b/ \b\b- \b\b\\ \b\b| \b\b/ \b\b- \b\b\\ \b\b| \b\b/ \b\b- \b\b\\ \b\b| \b\b/ \b\b- \b\b\\ \b\b| \b\b/ \b\b- \b\b\\ \b\b| \b\b/ \b\b- \b\b\\ \b\b| \b\b/ \b\b- \b\b\\ \b\b| \b\b/ \b\b- \b\b\\ \b\b| \b\b/ \b\b- \b\b\\ \b\b| \b\b/ \b\b- \b\b\\ \b\b| \b\b/ \b\b- \b\b\\ \b\b| \b\b/ \b\b- \b\b\\ \b\b| \b\b/ \b\b- \b\b\\ \b\b| \b\b/ \b\b- \b\b\\ \b\b| \b\b/ \b\b- \b\b\\ \b\b| \b\b/ \b\b- \b\b\\ \b\b| \b\b/ \b\b- \b\b\\ \b\b| \b\b/ \b\b- \b\b\\ \b\b| \b\b/ \b\b- \b\b\\ \b\b| \b\b/ \b\b- \b\b\\ \b\b| \b\b/ \b\b- \b\b\\ \b\b| \b\b/ \b\b- \b\b\\ \b\b| \b\b/ \b\b- \b\b\\ \b\b| \b\b/ \b\b- \b\b\\ \b\b| \b\b/ \b\b- \b\b\\ \b\b| \b\b/ \b\b- \b\b\\ \b\b| \b\b/ \b\b- \b\b\\ \b\b| \b\b/ \b\b- \b\b\\ \b\b| \b\b/ \b\b- \b\b\\ \b\b| \b\b/ \b\b- \b\b\\ \b\b| \b\b/ \b\b- \b\b\\ \b\b| \b\b/ \b\b- \b\b\\ \b\b| \b\b/ \b\b- \b\b\\ \b\b| \b\b/ \b\b- \b\b\\ \b\b| \b\b/ \b\b- \b\b\\ \b\b| \b\b/ \b\b- \b\b\\ \b\b| \b\b/ \b\b- \b\b\\ \b\b| \b\b/ \b\b- \b\b\\ \b\b| \b\b/ \b\b- \b\b\\ \b\b| \b\b/ \b\b- \b\b\\ \b\b| \b\b/ \b\b- \b\b\\ \b\b| \b\b/ \b\b- \b\b\\ \b\b| \b\b/ \b\b- \b\b\\ \b\b| \b\b/ \b\b- \b\b\\ \b\b| \b\b/ \b\b- \b\b\\ \b\b| \b\b/ \b\b- \b\b\\ \b\b| \b\b/ \b\b- \b\b\\ \b\b| \b\b/ \b\b- \b\b\\ \b\b| \b\b/ \b\b- \b\b\\ \b\b| \b\b/ \b\b- \b\b\\ \b\b| \b\b/ \b\b- \b\b\\ \b\b| \b\b/ \b\b- \b\b\\ \b\b| \b\b/ \b\b- \b\b\\ \b\b| \b\b/ \b\b- \b\b\\ \b\b| \b\b/ \b\b- \b\b\\ \b\b| \b\b/ \b\b- \b\b\\ \b\b| \b\b/ \b\b- \b\b\\ \b\b| \b\b/ \b\b- \b\b\\ \b\b| \b\b/ \b\b- \b\b\\ \b\b| \b\b/ \b\b- \b\b\\ \b\b| \b\b/ \b\b- \b\b\\ \b\b| \b\b/ \b\b- \b\b\\ \b\b| \b\b/ \b\b- \b\b\\ \b\b| \b\b/ \b\b- \b\b\\ \b\b| \b\b/ \b\b- \b\b\\ \b\b| \b\b/ \b\b- \b\b\\ \b\b| \b\b/ \b\b- \b\b\\ \b\b| \b\b/ \b\b- \b\b\\ \b\b| \b\b/ \b\b- \b\b\\ \b\b| \b\b/ \b\b- \b\b\\ \b\b| \b\b/ \b\b- \b\b\\ \b\b| \b\b/ \b\b- \b\b\\ \b\b| \b\b/ \b\b- \b\b\\ \b\b| \b\b/ \b\b- \b\b\\ \b\b| \b\b/ \b\b- \b\b\\ \b\b| \b\b/ \b\b- \b\b\\ \b\b| \b\b/ \b\b- \b\b\\ \b\b| \b\b/ \b\b- \b\b\\ \b\b| \b\b/ \b\b- \b\b\\ \b\b| \b\b/ \b\b- \b\b\\ \b\b| \b\b/ \b\b- \b\b\\ \b\b| \b\b/ \b\b- \b\b\\ \b\b| \b\b/ \b\b- \b\b\\ \b\b| \b\b/ \b\b- \b\b\\ \b\b| \b\b/ \b\b- \b\b\\ \b\b| \b\b/ \b\b- \b\b\\ \b\b| \b\b/ \b\b- \b\b\\ \b\b| \b\b/ \b\b- \b\b\\ \b\b| \b\b/ \b\b- \b\b\\ \b\b| \b\b/ \b\b- \b\b\\ \b\b| \b\b/ \b\b- \b\b\\ \b\b| \b\b/ \b\b- \b\b\\ \b\b| \b\b/ \b\b- \b\b\\ \b\b| \b\b/ \b\b- \b\b\\ \b\b| \b\b/ \b\b- \b\b\\ \b\b| \b\b/ \b\b- \b\b\\ \b\b| \b\b/ \b\b- \b\b\\ \b\b| \b\b/ \b\b- \b\b\\ \b\b| \b\b/ \b\b- \b\b\\ \b\b| \b\b/ \b\b- \b\b\\ \b\b| \b\b/ \b\b- \b\b\\ \b\b| \b\b/ \b\b- \b\b\\ \b\b| \b\b/ \b\b- \b\b\\ \b\b| \b\b/ \b\b- \b\b\\ \b\b| \b\b/ \b\b- \b\b\\ \b\b| \b\b/ \b\b- \b\b\\ \b\b| \b\b/ \b\b- \b\b\\ \b\b| \b\b/ \b\b- \b\b\\ \b\b| \b\b/ \b\b- \b\b\\ \b\b| \b\b/ \b\b- \b\b\\ \b\b| \b\b/ \b\b- \b\b\\ \b\b| \b\b/ \b\b- \b\b\\ \b\b| \b\b/ \b\b- \b\b\\ \b\b| \b\b/ \b\b- \b\b\\ \b\b| \b\b/ \b\b- \b\b\\ \b\b| \b\b/ \b\b- \b\b\\ \b\b| \b\b/ \b\b- \b\b\\ \b\b| \b\b/ \b\b- \b\b\\ \b\b| \b\b/ \b\b- \b\b\\ \b\b| \b\b/ \b\b- \b\b\\ \b\b| \b\b/ \b\b- \b\b\\ \b\b| \b\b/ \b\b- \b\b\\ \b\b| \b\b/ \b\b- \b\b\\ \b\b| \b\b/ \b\b- \b\b\\ \b\b| \b\b/ \b\b- \b\b\\ \b\b| \b\b/ \b\b- \b\b\\ \b\b| \b\b/ \b\b- \b\b\\ \b\b| \b\b/ \b\b- \b\b\\ \b\b| \b\b/ \b\b- \b\b\\ \b\b| \b\b/ \b\b- \b\b\\ \b\b| \b\b/ \b\b- \b\b\\ \b\b| \b\b/ \b\b- \b\b\\ \b\b| \b\b/ \b\b- \b\b\\ \b\b| \b\b/ \b\b- \b\b\\ \b\b| \b\b/ \b\b- \b\b\\ \b\b| \b\b/ \b\b- \b\b\\ \b\b| \b\b/ \b\b- \b\b\\ \b\b| \b\b/ \b\b- \b\b\\ \b\b| \b\b/ \b\b- \b\b\\ \b\b| \b\b/ \b\b- \b\b\\ \b\b| \b\b/ \b\b- \b\b\\ \b\b| \b\b/ \b\b- \b\b\\ \b\b| \b\b/ \b\b- \b\b\\ \b\b| \b\b/ \b\b- \b\b\\ \b\b| \b\b/ \b\b- \b\b\\ \b\b| \b\b/ \b\b- \b\b\\ \b\b| \b\b/ \b\b- \b\b\\ \b\b| \b\b/ \b\b- \b\b\\ \b\b| \b\b/ \b\b- \b\b\\ \b\b| \b\b/ \b\b- \b\b\\ \b\b| \b\b/ \b\b- \b\b\\ \b\b| \b\b/ \b\b- \b\b\\ \b\b| \b\b/ \b\b- \b\b\\ \b\b| \b\b/ \b\b- \b\b\\ \b\b| \b\b/ \b\b- \b\b\\ \b\b| \b\b/ \b\b- \b\b\\ \b\b| \b\b/ \b\b- \b\b\\ \b\b| \b\b/ \b\b- \b\b\\ \b\b| \b\b/ \b\b- \b\b\\ \b\b| \b\b/ \b\b- \b\b\\ \b\b| \b\b/ \b\b- \b\b\\ \b\b| \b\b/ \b\b- \b\b\\ \b\b| \b\b/ \b\b- \b\b\\ \b\b| \b\b/ \b\b- \b\b\\ \b\b| \b\b/ \b\b- \b\b\\ \b\b| \b\b/ \b\b- \b\b\\ \b\b| \b\b/ \b\b- \b\b\\ \b\b| \b\b/ \b\b- \b\b\\ \b\b| \b\b/ \b\b- \b\b\\ \b\b| \b\b/ \b\b- \b\b\\ \b\b| \b\b/ \b\b- \b\b\\ \b\b| \b\b/ \b\b- \b\b\\ \b\b| \b\b/ \b\b- \b\b\\ \b\b| \b\b/ \b\b- \b\b\\ \b\b| \b\b/ \b\b- \b\b\\ \b\b| \b\b/ \b\b- \b\b\\ \b\b| \b\b/ \b\b- \b\b\\ \b\b| \b\b/ \b\b- \b\b\\ \b\b| \b\b/ \b\b- \b\b\\ \b\b| \b\b/ \b\b- \b\b\\ \b\b| \b\b/ \b\b- \b\b\\ \b\b| \b\b/ \b\b- \b\b\\ \b\b| \b\b/ \b\b- \b\b\\ \b\b| \b\b/ \b\b- \b\b\\ \b\b| \b\b/ \b\b- \b\b\\ \b\b| \b\b/ \b\b- \b\b\\ \b\b| \b\b/ \b\b- \b\b\\ \b\b| \b\b/ \b\b- \b\b\\ \b\b| \b\b/ \b\b- \b\b\\ \b\b| \b\b/ \b\b- \b\b\\ \b\b| \b\b/ \b\b- \b\b\\ \b\b| \b\b/ \b\b- \b\b\\ \b\b| \b\b/ \b\b- \b\b\\ \b\b| \b\b/ \b\b- \b\b\\ \b\b| \b\b/ \b\b- \b\b\\ \b\b| \b\b/ \b\b- \b\b\\ \b\b| \b\b/ \b\b- \b\b\\ \b\b| \b\b/ \b\b- \b\b\\ \b\b| \b\b/ \b\b- \b\b\\ \b\b| \b\b/ \b\b- \b\b\\ \b\b| \b\b/ \b\b- \b\b\\ \b\b| \b\b/ \b\b- \b\b\\ \b\b| \b\b/ \b\b- \b\b\\ \b\b| \b\b/ \b\b- \b\b\\ \b\b| \b\b/ \b\b- \b\b\\ \b\b| \b\b/ \b\b- \b\b\\ \b\b| \b\b/ \b\b- \b\b\\ \b\b| \b\b/ \b\b- \b\b\\ \b\b| \b\b/ \b\b- \b\b\\ \b\b| \b\b/ \b\b- \b\b\\ \b\b| \b\b/ \b\b- \b\b\\ \b\b| \b\b/ \b\b- \b\b\\ \b\b| \b\b/ \b\b- \b\b\\ \b\b| \b\b/ \b\b- \b\b\\ \b\b| \b\b/ \b\b- \b\b\\ \b\b| \b\b/ \b\b- \b\b\\ \b\b| \b\b/ \b\b- \b\b\\ \b\b| \b\b/ \b\b- \b\b\\ \b\b| \b\b/ \b\b- \b\b\\ \b\b| \b\b/ \b\b- \b\b\\ \b\b| \b\b/ \b\b- \b\b\\ \b\b| \b\b/ \b\b- \b\b\\ \b\b| \b\b/ \b\b- \b\b\\ \b\b| \b\b/ \b\b- \b\b\\ \b\b| \b\b/ \b\b- \b\b\\ \b\b| \b\b/ \b\b- \b\b\\ \b\b| \b\b/ \b\b- \b\b\\ \b\b| \b\b/ \b\b- \b\b\\ \b\b| \b\b/ \b\b- \b\b\\ \b\b| \b\b/ \b\b- \b\b\\ \b\b| \b\b/ \b\b- \b\b\\ \b\b| \b\b/ \b\b- \b\b\\ \b\b| \b\b/ \b\b- \b\b\\ \b\b| \b\b/ \b\b- \b\b\\ \b\b| \b\b/ \b\b- \b\b\\ \b\b| \b\b/ \b\b- \b\b\\ \b\b| \b\b/ \b\b- \b\b\\ \b\b| \b\b/ \b\b- \b\b\\ \b\b| \b\b/ \b\b- \b\b\\ \b\b| \b\b/ \b\b- \b\b\\ \b\b| \b\b/ \b\b- \b\b\\ \b\b| \b\b/ \b\b- \b\b\\ \b\b| \b\b/ \b\b- \b\b\\ \b\b| \b\b/ \b\b- \b\b\\ \b\b| \b\b/ \b\b- \b\b\\ \b\b| \b\b/ \b\b- \b\b\\ \b\b| \b\b/ \b\b- \b\b\\ \b\b| \b\b/ \b\b- \b\b\\ \b\b| \b\b/ \b\b- \b\b\\ \b\b| \b\b/ \b\b- \b\b\\ \b\b| \b\b/ \b\b- \b\b\\ \b\b| \b\b/ \b\b- \b\b\\ \b\b| \b\b/ \b\b- \b\b\\ \b\b| \b\b/ \b\b- \b\b\\ \b\b| \b\b/ \b\b- \b\b\\ \b\b| \b\b/ \b\b- \b\b\\ \b\b| \b\b/ \b\b- \b\b\\ \b\b| \b\b/ \b\b- \b\b\\ \b\b| \b\b/ \b\b- \b\b\\ \b\b| \b\b/ \b\b- \b\b\\ \b\b| \b\b/ \b\b- \b\b\\ \b\b| \b\b/ \b\b- \b\b\\ \b\b| \b\b/ \b\b- \b\b\\ \b\b| \b\b/ \b\b- \b\b\\ \b\b| \b\b/ \b\b- \b\b\\ \b\b| \b\b/ \b\b- \b\b\\ \b\b| \b\b/ \b\b- \b\b\\ \b\b| \b\b/ \b\b- \b\b\\ \b\b| \b\b/ \b\b- \b\b\\ \b\b| \b\b/ \b\b- \b\b\\ \b\b| \b\b/ \b\b- \b\b\\ \b\b| \b\b/ \b\b- \b\b\\ \b\b| \b\b/ \b\b- \b\b\\ \b\b| \b\b/ \b\b- \b\b\\ \b\b| \b\b/ \b\b- \b\b\\ \b\b| \b\b/ \b\b- \b\b\\ \b\b| \b\b/ \b\b- \b\b\\ \b\b| \b\b/ \b\b- \b\b\\ \b\b| \b\b/ \b\b- \b\b\\ \b\b| \b\b/ \b\b- \b\b\\ \b\b| \b\b/ \b\b- \b\b\\ \b\b| \b\b/ \b\b- \b\b\\ \b\b| \b\b/ \b\b- \b\b\\ \b\b| \b\b/ \b\b- \b\b\\ \b\b| \b\b/ \b\b- \b\b\\ \b\b| \b\b/ \b\b- \b\b\\ \b\b| \b\b/ \b\b- \b\b\\ \b\b| \b\b/ \b\b- \b\b\\ \b\b| \b\b/ \b\b- \b\b\\ \b\b| \b\b/ \b\b- \b\b\\ \b\b| \b\b/ \b\b- \b\b\\ \b\b| \b\b/ \b\b- \b\b\\ \b\b| \b\b/ \b\b- \b\b\\ \b\b| \b\b/ \b\b- \b\b\\ \b\b| \b\b/ \b\b- \b\b\\ \b\b| \b\b/ \b\b- \b\b\\ \b\b| \b\b/ \b\b- \b\b\\ \b\b| \b\b/ \b\b- \b\b\\ \b\b| \b\b/ \b\b- \b\b\\ \b\b| \b\b/ \b\b- \b\b\\ \b\b| \b\b/ \b\b- \b\b\\ \b\b| \b\b/ \b\b- \b\b\\ \b\b| \b\b/ \b\b- \b\b\\ \b\b| \b\b/ \b\b- \b\b\\ \b\b| \b\b/ \b\b- \b\b\\ \b\b| \b\b/ \b\b- \b\b\\ \b\b| \b\b/ \b\b- \b\b\\ \b\b| \b\b/ \b\b- \b\b\\ \b\b| \b\b/ \b\b- \b\b\\ \b\b| \b\b/ \b\b- \b\b\\ \b\b| \b\b/ \b\b- \b\b\\ \b\b| \b\b/ \b\b- \b\b\\ \b\b| \b\b/ \b\b- \b\b\\ \b\b| \b\b/ \b\b- \b\b\\ \b\b| \b\b/ \b\b- \b\b\\ \b\b| \b\b/ \b\b- \b\b\\ \b\b| \b\b/ \b\b- \b\b\\ \b\b| \b\b/ \b\b- \b\b\\ \b\b| \b\b/ \b\b- \b\b\\ \b\b| \b\b/ \b\b- \b\b\\ \b\b| \b\b/ \b\b- \b\b\\ \b\b| \b\b/ \b\b- \b\b\\ \b\b| \b\b/ \b\b- \b\b\\ \b\b| \b\b/ \b\b- \b\b\\ \b\b| \b\b/ \b\b- \b\b\\ \b\b| \b\b/ \b\b- \b\b\\ \b\b| \b\b/ \b\b- \b\b\\ \b\b| \b\b/ \b\b- \b\b\\ \b\b| \b\b/ \b\b- \b\b\\ \b\b| \b\b/ \b\b- \b\b\\ \b\b| \b\b/ \b\b- \b\b\\ \b\b| \b\b/ \b\b- \b\b\\ \b\b| \b\b/ \b\b- \b\b\\ \b\b| \b\b/ \b\b- \b\b\\ \b\b| \b\b/ \b\b- \b\b\\ \b\b| \b\b/ \b\b- \b\b\\ \b\b| \b\b/ \b\b- \b\b\\ \b\b| \b\b/ \b\b- \b\b\\ \b\b| \b\b/ \b\b- \b\b\\ \b\b| \b\b/ \b\b- \b\b\\ \b\b| \b\b/ \b\b- \b\b\\ \b\b| \b\b/ \b\b- \b\b\\ \b\b| \b\b/ \b\b- \b\b\\ \b\b| \b\b/ \b\b- \b\b\\ \b\b| \b\b/ \b\b- \b\b\\ \b\b| \b\b/ \b\b- \b\b\\ \b\b| \b\b/ \b\b- \b\b\\ \b\b| \b\b/ \b\b- \b\b\\ \b\b| \b\b/ \b\b- \b\b\\ \b\b| \b\b/ \b\b- \b\b\\ \b\b| \b\b/ \b\b- \b\b\\ \b\b| \b\b/ \b\b- \b\b\\ \b\b| \b\b/ \b\b- \b\b\\ \b\b| \b\b/ \b\b- \b\b\\ \b\b| \b\b/ \b\b- \b\b\\ \b\b| \b\b/ \b\b- \b\b\\ \b\b| \b\b/ \b\b- \b\b\\ \b\b| \b\b/ \b\b- \b\b\\ \b\b| \b\b/ \b\b- \b\b\\ \b\b| \b\b/ \b\b- \b\b\\ \b\b| \b\b/ \b\b- \b\b\\ \b\b| \b\b/ \b\b- \b\b\\ \b\b| \b\b/ \b\b- \b\b\\ \b\b| \b\b/ \b\b- \b\b\\ \b\b| \b\b/ \b\b- \b\b\\ \b\b| \b\b/ \b\b- \b\b\\ \b\b| \b\b/ \b\b- \b\b\\ \b\b| \b\b/ \b\b- \b\b\\ \b\b| \b\b/ \b\b- \b\b\\ \b\b| \b\b/ \b\b- \b\b\\ \b\b| \b\b/ \b\b- \b\b\\ \b\b| \b\b/ \b\b- \b\b\\ \b\b| \b\b/ \b\b- \b\b\\ \b\b| \b\b/ \b\b- \b\b\\ \b\b| \b\b/ \b\b- \b\b\\ \b\b| \b\b/ \b\b- \b\b\\ \b\b| \b\b/ \b\b- \b\b\\ \b\b| \b\b/ \b\b- \b\b\\ \b\b| \b\b/ \b\b- \b\b\\ \b\b| \b\b/ \b\b- \b\b\\ \b\b| \b\b/ \b\b- \b\b\\ \b\b| \b\b/ \b\b- \b\b\\ \b\b| \b\b/ \b\b- \b\b\\ \b\b| \b\b/ \b\b- \b\b\\ \b\b| \b\b/ \b\b- \b\b\\ \b\b| \b\b/ \b\b- \b\b\\ \b\b| \b\b/ \b\b- \b\b\\ \b\b| \b\b/ \b\b- \b\b\\ \b\b| \b\b/ \b\b- \b\b\\ \b\b| \b\b/ \b\b- \b\b\\ \b\b| \b\b/ \b\b- \b\b\\ \b\b| \b\b/ \b\b- \b\b\\ \b\b| \b\b/ \b\b- \b\b\\ \b\b| \b\b/ \b\b- \b\b\\ \b\b| \b\b/ \b\b- \b\b\\ \b\b| \b\b/ \b\b- \b\b\\ \b\b| \b\b/ \b\b- \b\b\\ \b\b| \b\b/ \b\b- \b\b\\ \b\b| \b\b/ \b\b- \b\b\\ \b\b| \b\b/ \b\b- \b\b\\ \b\b| \b\b/ \b\b- \b\b\\ \b\b| \b\b/ \b\b- \b\b\\ \b\b| \b\b/ \b\b- \b\b\\ \b\b| \b\b/ \b\b- \b\b\\ \b\b| \b\b/ \b\b- \b\b\\ \b\b| \b\b/ \b\b- \b\b\\ \b\b| \b\b/ \b\b- \b\b\\ \b\b| \b\b/ \b\b- \b\b\\ \b\b| \b\b/ \b\b- \b\b\\ \b\b| \b\b/ \b\b- \b\b\\ \b\b| \b\b/ \b\b- \b\b\\ \b\b| \b\b/ \b\b- \b\b\\ \b\b| \b\b/ \b\b- \b\b\\ \b\b| \b\b/ \b\b- \b\b\\ \b\b| \b\b/ \b\b- \b\b\\ \b\b| \b\b/ \b\b- \b\b\\ \b\b| \b\b/ \b\b- \b\b\\ \b\b| \b\b/ \b\b- \b\b\\ \b\b| \b\b/ \b\b- \b\b\\ \b\b| \b\b/ \b\b- \b\b\\ \b\b| \b\b/ \b\b- \b\b\\ \b\b| \b\b/ \b\b- \b\b\\ \b\b| \b\b/ \b\b- \b\b\\ \b\b| \b\b/ \b\b- \b\b\\ \b\b| \b\b/ \b\b- \b\b\\ \b\b| \b\b/ \b\b- \b\b\\ \b\b| \b\b/ \b\b- \b\b\\ \b\b| \b\b/ \b\b- \b\b\\ \b\b| \b\b/ \b\b- \b\b\\ \b\b| \b\b/ \b\b- \b\b\\ \b\b| \b\b/ \b\b- \b\b\\ \b\b| \b\b/ \b\b- \b\b\\ \b\b| \b\b/ \b\b- \b\b\\ \b\b| \b\b/ \b\b- \b\b\\ \b\b| \b\b/ \b\b- \b\b\\ \b\b| \b\b/ \b\b- \b\b\\ \b\b| \b\b/ \b\b- \b\b\\ \b\b| \b\b/ \b\b- \b\b\\ \b\b| \b\b/ \b\b- \b\b\\ \b\b| \b\b/ \b\b- \b\b\\ \b\b| \b\b/ \b\b- \b\b\\ \b\b| \b\b/ \b\b- \b\b\\ \b\b| \b\b/ \b\b- \b\b\\ \b\b| \b\b/ \b\b- \b\b\\ \b\b| \b\b/ \b\b- \b\b\\ \b\b| \b\b/ \b\b- \b\b\\ \b\b| \b\b/ \b\b- \b\b\\ \b\b| \b\b/ \b\b- \b\b\\ \b\b| \b\b/ \b\b- \b\b\\ \b\b| \b\b/ \b\b- \b\b\\ \b\b| \b\b/ \b\b- \b\b\\ \b\b| \b\b/ \b\b- \b\b\\ \b\b| \b\b/ \b\b- \b\b\\ \b\b| \b\b/ \b\b- \b\b\\ \b\b| \b\b/ \b\b- \b\b\\ \b\b| \b\b/ \b\b- \b\b\\ \b\b| \b\b/ \b\b- \b\b\\ \b\b| \b\b/ \b\b- \b\b\\ \b\b| \b\b/ \b\b- \b\b\\ \b\b| \b\b/ \b\b- \b\b\\ \b\b| \b\b/ \b\b- \b\b\\ \b\b| \b\b/ \b\b- \b\b\\ \b\b| \b\b/ \b\b- \b\b\\ \b\b| \b\b/ \b\b- \b\b\\ \b\b| \b\b/ \b\b- \b\b\\ \b\b| \b\b/ \b\b- \b\b\\ \b\b| \b\b/ \b\b- \b\b\\ \b\b| \b\b/ \b\b- \b\b\\ \b\b| \b\b/ \b\b- \b\b\\ \b\b| \b\b/ \b\b- \b\b\\ \b\b| \b\b/ \b\b- \b\b\\ \b\b| \b\b/ \b\b- \b\b\\ \b\b| \b\b/ \b\b- \b\b\\ \b\b| \b\b/ \b\b- \b\b\\ \b\b| \b\b/ \b\b- \b\b\\ \b\b| \b\b/ \b\b- \b\b\\ \b\b| \b\b/ \b\b- \b\b\\ \b\b| \b\b/ \b\b- \b\b\\ \b\b| \b\b/ \b\b- \b\b\\ \b\b| \b\b/ \b\b- \b\b\\ \b\b| \b\b/ \b\b- \b\b\\ \b\b| \b\b/ \b\b- \b\b\\ \b\b| \b\b/ \b\b- \b\b\\ \b\b| \b\b/ \b\b- \b\b\\ \b\b| \b\b/ \b\b- \b\b\\ \b\b| \b\b/ \b\b- \b\b\\ \b\b| \b\b/ \b\b- \b\b\\ \b\b| \b\b/ \b\b- \b\b\\ \b\b| \b\b/ \b\b- \b\b\\ \b\b| \b\b/ \b\b- \b\b\\ \b\b| \b\b/ \b\b- \b\b\\ \b\b| \b\b/ \b\b- \b\b\\ \b\b| \b\b/ \b\b- \b\b\\ \b\b| \b\b/ \b\b- \b\b\\ \b\b| \b\b/ \b\b- \b\b\\ \b\b| \b\b/ \b\b- \b\b\\ \b\b| \b\b/ \b\b- \b\b\\ \b\b| \b\b/ \b\b- \b\b\\ \b\b| \b\b/ \b\b- \b\b\\ \b\b| \b\b/ \b\b- \b\b\\ \b\b| \b\b/ \b\b- \b\b\\ \b\b| \b\b/ \b\b- \b\b\\ \b\b| \b\b/ \b\b- \b\b\\ \b\b| \b\b/ \b\b- \b\b\\ \b\b| \b\b/ \b\b- \b\b\\ \b\b| \b\b/ \b\b- \b\b\\ \b\b| \b\b/ \b\b- \b\b\\ \b\b| \b\b/ \b\b- \b\b\\ \b\b| \b\b/ \b\b- \b\b\\ \b\b| \b\b/ \b\b- \b\b\\ \b\b| \b\b/ \b\b- \b\b\\ \b\b| \b\b/ \b\b- \b\b\\ \b\b| \b\b/ \b\b- \b\b\\ \b\b| \b\b/ \b\b- \b\b\\ \b\b| \b\b/ \b\b- \b\b\\ \b\b| \b\b/ \b\b- \b\b\\ \b\b| \b\b/ \b\b- \b\b\\ \b\b| \b\b/ \b\b- \b\b\\ \b\b| \b\b/ \b\b- \b\b\\ \b\b| \b\b/ \b\bdone\n",
            "\n",
            "\n",
            "==> WARNING: A newer version of conda exists. <==\n",
            "  current version: 4.5.12\n",
            "  latest version: 4.6.12\n",
            "\n",
            "Please update conda by running\n",
            "\n",
            "    $ conda update -n base -c defaults conda\n",
            "\n",
            "\n",
            "\n",
            "## Package Plan ##\n",
            "\n",
            "  environment location: /usr/local\n",
            "\n",
            "  added / updated specs: \n",
            "    - deepchem-gpu=2.1.0\n",
            "\n",
            "\n",
            "The following packages will be downloaded:\n",
            "\n",
            "    package                    |            build\n",
            "    ---------------------------|-----------------\n",
            "    wcwidth-0.1.7              |             py_1          17 KB  conda-forge\n",
            "    olefile-0.46               |             py_0          31 KB  conda-forge\n",
            "    backcall-0.1.0             |             py_0          13 KB  conda-forge\n",
            "    xorg-libxau-1.0.9          |       h14c3975_0          13 KB  conda-forge\n",
            "    matplotlib-2.2.2           |           py36_1         9.2 MB  conda-forge\n",
            "    libtiff-4.0.9              |    h648cc4a_1002         566 KB  conda-forge\n",
            "    jupyter-1.0.0              |             py_2           4 KB  conda-forge\n",
            "    jpeg-9c                    |    h14c3975_1001         251 KB  conda-forge\n",
            "    setuptools-41.0.0          |           py36_0         607 KB  conda-forge\n",
            "    scikit-learn-0.19.1        |py36_nomklh27f7947_0         5.2 MB\n",
            "    xorg-libsm-1.2.3           |    h84519dc_1000          25 KB  conda-forge\n",
            "    pdbfixer-1.4               |           py36_0         187 KB  omnia\n",
            "    blas-2.5                   |         openblas           6 KB  conda-forge\n",
            "    networkx-2.1               |             py_1         1.1 MB  conda-forge\n",
            "    gettext-0.19.8.1           |    hc5be6a0_1002         3.6 MB  conda-forge\n",
            "    pyqt-5.6.0                 |py36h13b7fb3_1008         5.4 MB  conda-forge\n",
            "    liblapack-3.8.0            |       5_openblas           6 KB  conda-forge\n",
            "    libpng-1.6.34              |       ha92aebf_2         304 KB  conda-forge\n",
            "    grpcio-1.16.0              |py36h4f00d22_1000         1.0 MB  conda-forge\n",
            "    openmm-7.3.1               | py36_cuda92_rc_2        11.4 MB  omnia\n",
            "    hdf5-1.10.4                |nompi_h3c11f04_1106         5.3 MB  conda-forge\n",
            "    pytz-2019.1                |             py_0         227 KB  conda-forge\n",
            "    bzip2-1.0.6                |    h14c3975_1002         415 KB  conda-forge\n",
            "    jsonschema-3.0.1           |           py36_0          84 KB  conda-forge\n",
            "    tensorflow-gpu-1.6.0       |                0           3 KB\n",
            "    expat-2.2.5                |    hf484d3e_1002         185 KB  conda-forge\n",
            "    pysocks-1.6.8              |        py36_1002          22 KB  conda-forge\n",
            "    parso-0.4.0                |             py_0          64 KB  conda-forge\n",
            "    lzo-2.10                   |    h14c3975_1000         319 KB  conda-forge\n",
            "    xorg-libx11-1.6.7          |    h14c3975_1000         940 KB  conda-forge\n",
            "    requests-2.18.4            |           py36_1          91 KB  conda-forge\n",
            "    cryptography-2.5           |   py36hb7f436b_1         645 KB  conda-forge\n",
            "    pcre-8.41                  |    hf484d3e_1003         249 KB  conda-forge\n",
            "    freetype-2.8.1             |       hfa320df_1         789 KB  conda-forge\n",
            "    cycler-0.10.0              |             py_1           8 KB  conda-forge\n",
            "    rdkit-2017.09.1            |           py36_1        19.7 MB  rdkit\n",
            "    gstreamer-1.12.5           |       h61a6719_0         2.1 MB  conda-forge\n",
            "    pytables-3.5.1             |   py36h442f067_1         1.4 MB  conda-forge\n",
            "    jupyter_console-6.0.0      |             py_0          19 KB  conda-forge\n",
            "    blosc-1.16.3               |       hf484d3e_0         885 KB  conda-forge\n",
            "    tensorboard-1.6.0          |           py36_0         2.9 MB  conda-forge\n",
            "    openblas-0.3.5             |    h9ac9557_1001        15.8 MB  conda-forge\n",
            "    kiwisolver-1.0.1           |py36h6bb024c_1002          84 KB  conda-forge\n",
            "    pbr-5.1.3                  |             py_0          70 KB  conda-forge\n",
            "    tornado-6.0.2              |   py36h516909a_0         636 KB  conda-forge\n",
            "    jedi-0.13.3                |           py36_0         230 KB  conda-forge\n",
            "    pyopenssl-19.0.0           |           py36_0          81 KB  conda-forge\n",
            "    ipython-7.4.0              |   py36h24bf2e0_0         1.1 MB  conda-forge\n",
            "    pillow-5.0.0               |           py36_0         975 KB  conda-forge\n",
            "    idna-2.6                   |           py36_1         122 KB  conda-forge\n",
            "    libxcb-1.13                |    h14c3975_1002         396 KB  conda-forge\n",
            "    glib-2.55.0                |       h464dc38_2         6.1 MB  conda-forge\n",
            "    libprotobuf-3.7.1          |       h8b12597_0         4.6 MB  conda-forge\n",
            "    astor-0.7.1                |             py_0          22 KB  conda-forge\n",
            "    numexpr-2.6.9              |py36h637b7d7_1000         194 KB  conda-forge\n",
            "    asn1crypto-0.24.0          |        py36_1003         154 KB  conda-forge\n",
            "    ipywidgets-7.4.2           |             py_0          92 KB  conda-forge\n",
            "    libopenblas-0.2.20         |       h9ac9557_7         8.8 MB\n",
            "    gast-0.2.2                 |             py_0          10 KB  conda-forge\n",
            "    simdna-0.4.2               |             py_0         627 KB  deepchem\n",
            "    gst-plugins-base-1.12.5    |    h3865690_1000         4.9 MB  conda-forge\n",
            "    prometheus_client-0.6.0    |             py_0          34 KB  conda-forge\n",
            "    ipython_genutils-0.2.0     |             py_1          21 KB  conda-forge\n",
            "    widgetsnbextension-3.4.2   |        py36_1000         1.7 MB  conda-forge\n",
            "    xorg-kbproto-1.0.7         |    h14c3975_1002          26 KB  conda-forge\n",
            "    xorg-libice-1.0.9          |    h516909a_1004          58 KB  conda-forge\n",
            "    xorg-libxrender-0.9.10     |    h516909a_1002          31 KB  conda-forge\n",
            "    pthread-stubs-0.4          |    h14c3975_1001           5 KB  conda-forge\n",
            "    cupti-9.0.176              |                0         1.6 MB\n",
            "    testpath-0.4.2             |          py_1001          85 KB  conda-forge\n",
            "    deepchem-gpu-2.1.0         |           py36_0         1.9 MB  deepchem\n",
            "    nbconvert-5.4.1            |             py_2         332 KB  conda-forge\n",
            "    fftw3f-3.3.4               |                2         1.2 MB  omnia\n",
            "    webencodings-0.5.1         |             py_1          12 KB  conda-forge\n",
            "    python-3.6.6               |    hd21baee_1003        29.0 MB  conda-forge\n",
            "    ptyprocess-0.6.0           |          py_1001          15 KB  conda-forge\n",
            "    sip-4.18.1                 |py36hf484d3e_1000         277 KB  conda-forge\n",
            "    qtconsole-4.4.3            |             py_0          81 KB  conda-forge\n",
            "    decorator-4.4.0            |             py_0          11 KB  conda-forge\n",
            "    libcblas-3.8.0             |       5_openblas           6 KB  conda-forge\n",
            "    pip-19.0.3                 |           py36_0         1.8 MB  conda-forge\n",
            "    mistune-0.8.4              |py36h14c3975_1000          53 KB  conda-forge\n",
            "    libsodium-1.0.16           |    h14c3975_1001         306 KB  conda-forge\n",
            "    bleach-1.5.0               |           py36_0          23 KB  conda-forge\n",
            "    pycosat-0.6.3              |py36h14c3975_1001         104 KB  conda-forge\n",
            "    termcolor-1.1.0            |             py_2           6 KB  conda-forge\n",
            "    libblas-3.8.0              |       5_openblas           6 KB  conda-forge\n",
            "    libiconv-1.15              |    h516909a_1005         2.0 MB  conda-forge\n",
            "    mock-2.0.0                 |        py36_1001         106 KB  conda-forge\n",
            "    icu-58.2                   |    hf484d3e_1000        22.6 MB  conda-forge\n",
            "    notebook-5.7.8             |           py36_0         7.2 MB  conda-forge\n",
            "    jinja2-2.10.1              |             py_0          91 KB  conda-forge\n",
            "    pickleshare-0.7.5          |        py36_1000          12 KB  conda-forge\n",
            "    werkzeug-0.15.2            |             py_0         257 KB  conda-forge\n",
            "    zeromq-4.2.5               |    hf484d3e_1006         608 KB  conda-forge\n",
            "    pycparser-2.19             |           py36_1         173 KB  conda-forge\n",
            "    absl-py-0.7.1              |           py36_0         154 KB  conda-forge\n",
            "    pyrsistent-0.14.11         |   py36h14c3975_0          87 KB  conda-forge\n",
            "    xorg-libxdmcp-1.1.3        |       h516909a_0          18 KB  conda-forge\n",
            "    chardet-3.0.4              |        py36_1003         190 KB  conda-forge\n",
            "    xorg-renderproto-0.11.1    |    h14c3975_1002           8 KB  conda-forge\n",
            "    conda-4.6.13               |           py36_0         2.1 MB  conda-forge\n",
            "    numpy-1.16.2               |   py36h8b7e671_1         4.3 MB  conda-forge\n",
            "    liblapacke-3.8.0           |       5_openblas           6 KB  conda-forge\n",
            "    pygments-2.3.1             |             py_0         641 KB  conda-forge\n",
            "    pyparsing-2.4.0            |             py_0          55 KB  conda-forge\n",
            "    xgboost-0.6a2              |           py36_2         1.1 MB  conda-forge\n",
            "    markdown-2.6.11            |             py_0          56 KB  conda-forge\n",
            "    xorg-xextproto-7.3.0       |    h14c3975_1002          27 KB  conda-forge\n",
            "    attrs-19.1.0               |             py_0          32 KB  conda-forge\n",
            "    protobuf-3.7.1             |   py36he1b5a44_0         645 KB  conda-forge\n",
            "    traitlets-4.3.2            |        py36_1000         131 KB  conda-forge\n",
            "    mdtraj-1.9.1               |           py36_1         5.9 MB  deepchem\n",
            "    c-ares-1.15.0              |    h14c3975_1001          98 KB  conda-forge\n",
            "    pandas-0.22.0              |           py36_1        26.1 MB  conda-forge\n",
            "    wheel-0.33.1               |           py36_0          34 KB  conda-forge\n",
            "    certifi-2019.3.9           |           py36_0         149 KB  conda-forge\n",
            "    entrypoints-0.3            |        py36_1000          12 KB  conda-forge\n",
            "    joblib-0.11                |           py36_0         193 KB  conda-forge\n",
            "    send2trash-1.5.0           |             py_0          12 KB  conda-forge\n",
            "    pexpect-4.7.0              |           py36_0          78 KB  conda-forge\n",
            "    pandoc-2.7.2               |                0        21.7 MB  conda-forge\n",
            "    jupyter_client-5.2.4       |             py_3          63 KB  conda-forge\n",
            "    cairo-1.14.12              |       he56eebe_3         1.3 MB  conda-forge\n",
            "    ruamel_yaml-0.15.71        |py36h14c3975_1000         257 KB  conda-forge\n",
            "    cudnn-7.3.1                |        cuda9.0_0       331.3 MB\n",
            "    scipy-1.2.1                |   py36h09a28d5_1        18.1 MB  conda-forge\n",
            "    ca-certificates-2019.3.9   |       hecc5488_0         146 KB  conda-forge\n",
            "    xorg-xproto-7.0.31         |    h14c3975_1007          72 KB  conda-forge\n",
            "    python-dateutil-2.8.0      |             py_0         219 KB  conda-forge\n",
            "    nbformat-4.4.0             |             py_1          91 KB  conda-forge\n",
            "    libgfortran-ng-7.3.0       |       hdf63c60_0         1.3 MB\n",
            "    defusedxml-0.5.0           |             py_1          20 KB  conda-forge\n",
            "    xorg-libxext-1.3.4         |       h516909a_0          51 KB  conda-forge\n",
            "    six-1.12.0                 |        py36_1000          22 KB  conda-forge\n",
            "    markupsafe-1.1.1           |   py36h14c3975_0          26 KB  conda-forge\n",
            "    boost-1.63.0               |   py36h415b752_1        11.8 MB  rdkit\n",
            "    dbus-1.13.0                |    h4e0c4b3_1000         558 KB  conda-forge\n",
            "    terminado-0.8.2            |           py36_0          23 KB  conda-forge\n",
            "    libxml2-2.9.8              |    h143f9aa_1005         2.0 MB  conda-forge\n",
            "    jupyter_core-4.4.0         |             py_0          44 KB  conda-forge\n",
            "    pyzmq-18.0.1               |   py36h0e1adb2_0         515 KB  conda-forge\n",
            "    ipykernel-5.1.0            |py36h24bf2e0_1002         156 KB  conda-forge\n",
            "    urllib3-1.22               |           py36_0         154 KB  conda-forge\n",
            "    pandocfilters-1.4.2        |             py_1           9 KB  conda-forge\n",
            "    cffi-1.12.2                |   py36hf0e25f4_1         218 KB  conda-forge\n",
            "    pixman-0.34.0              |    h14c3975_1003         595 KB  conda-forge\n",
            "    html5lib-0.9999999         |           py36_0         181 KB  conda-forge\n",
            "    tensorflow-gpu-base-1.6.0  |   py36hcdda91b_1       154.9 MB\n",
            "    qt-5.6.2                   |       h50c60fd_8        44.3 MB  conda-forge\n",
            "    libuuid-2.32.1             |    h14c3975_1000          26 KB  conda-forge\n",
            "    openssl-1.0.2r             |       h14c3975_0         3.1 MB  conda-forge\n",
            "    fontconfig-2.13.0          |       hd36ec8e_5         284 KB  conda-forge\n",
            "    prompt_toolkit-2.0.9       |             py_0         222 KB  conda-forge\n",
            "    cudatoolkit-9.0            |       h13b8566_0       340.4 MB\n",
            "    ------------------------------------------------------------\n",
            "                                           Total:        1.14 GB\n",
            "\n",
            "The following NEW packages will be INSTALLED:\n",
            "\n",
            "    absl-py:             0.7.1-py36_0                conda-forge\n",
            "    astor:               0.7.1-py_0                  conda-forge\n",
            "    attrs:               19.1.0-py_0                 conda-forge\n",
            "    backcall:            0.1.0-py_0                  conda-forge\n",
            "    blas:                2.5-openblas                conda-forge\n",
            "    bleach:              1.5.0-py36_0                conda-forge\n",
            "    blosc:               1.16.3-hf484d3e_0           conda-forge\n",
            "    boost:               1.63.0-py36h415b752_1       rdkit      \n",
            "    bzip2:               1.0.6-h14c3975_1002         conda-forge\n",
            "    c-ares:              1.15.0-h14c3975_1001        conda-forge\n",
            "    cairo:               1.14.12-he56eebe_3          conda-forge\n",
            "    cudatoolkit:         9.0-h13b8566_0                         \n",
            "    cudnn:               7.3.1-cuda9.0_0                        \n",
            "    cupti:               9.0.176-0                              \n",
            "    cycler:              0.10.0-py_1                 conda-forge\n",
            "    dbus:                1.13.0-h4e0c4b3_1000        conda-forge\n",
            "    decorator:           4.4.0-py_0                  conda-forge\n",
            "    deepchem-gpu:        2.1.0-py36_0                deepchem   \n",
            "    defusedxml:          0.5.0-py_1                  conda-forge\n",
            "    entrypoints:         0.3-py36_1000               conda-forge\n",
            "    expat:               2.2.5-hf484d3e_1002         conda-forge\n",
            "    fftw3f:              3.3.4-2                     omnia      \n",
            "    fontconfig:          2.13.0-hd36ec8e_5           conda-forge\n",
            "    freetype:            2.8.1-hfa320df_1            conda-forge\n",
            "    gast:                0.2.2-py_0                  conda-forge\n",
            "    gettext:             0.19.8.1-hc5be6a0_1002      conda-forge\n",
            "    glib:                2.55.0-h464dc38_2           conda-forge\n",
            "    grpcio:              1.16.0-py36h4f00d22_1000    conda-forge\n",
            "    gst-plugins-base:    1.12.5-h3865690_1000        conda-forge\n",
            "    gstreamer:           1.12.5-h61a6719_0           conda-forge\n",
            "    hdf5:                1.10.4-nompi_h3c11f04_1106  conda-forge\n",
            "    html5lib:            0.9999999-py36_0            conda-forge\n",
            "    icu:                 58.2-hf484d3e_1000          conda-forge\n",
            "    ipykernel:           5.1.0-py36h24bf2e0_1002     conda-forge\n",
            "    ipython:             7.4.0-py36h24bf2e0_0        conda-forge\n",
            "    ipython_genutils:    0.2.0-py_1                  conda-forge\n",
            "    ipywidgets:          7.4.2-py_0                  conda-forge\n",
            "    jedi:                0.13.3-py36_0               conda-forge\n",
            "    jinja2:              2.10.1-py_0                 conda-forge\n",
            "    joblib:              0.11-py36_0                 conda-forge\n",
            "    jpeg:                9c-h14c3975_1001            conda-forge\n",
            "    jsonschema:          3.0.1-py36_0                conda-forge\n",
            "    jupyter:             1.0.0-py_2                  conda-forge\n",
            "    jupyter_client:      5.2.4-py_3                  conda-forge\n",
            "    jupyter_console:     6.0.0-py_0                  conda-forge\n",
            "    jupyter_core:        4.4.0-py_0                  conda-forge\n",
            "    kiwisolver:          1.0.1-py36h6bb024c_1002     conda-forge\n",
            "    libblas:             3.8.0-5_openblas            conda-forge\n",
            "    libcblas:            3.8.0-5_openblas            conda-forge\n",
            "    libgfortran-ng:      7.3.0-hdf63c60_0                       \n",
            "    libiconv:            1.15-h516909a_1005          conda-forge\n",
            "    liblapack:           3.8.0-5_openblas            conda-forge\n",
            "    liblapacke:          3.8.0-5_openblas            conda-forge\n",
            "    libopenblas:         0.2.20-h9ac9557_7                      \n",
            "    libpng:              1.6.34-ha92aebf_2           conda-forge\n",
            "    libprotobuf:         3.7.1-h8b12597_0            conda-forge\n",
            "    libsodium:           1.0.16-h14c3975_1001        conda-forge\n",
            "    libtiff:             4.0.9-h648cc4a_1002         conda-forge\n",
            "    libuuid:             2.32.1-h14c3975_1000        conda-forge\n",
            "    libxcb:              1.13-h14c3975_1002          conda-forge\n",
            "    libxml2:             2.9.8-h143f9aa_1005         conda-forge\n",
            "    lzo:                 2.10-h14c3975_1000          conda-forge\n",
            "    markdown:            2.6.11-py_0                 conda-forge\n",
            "    markupsafe:          1.1.1-py36h14c3975_0        conda-forge\n",
            "    matplotlib:          2.2.2-py36_1                conda-forge\n",
            "    mdtraj:              1.9.1-py36_1                deepchem   \n",
            "    mistune:             0.8.4-py36h14c3975_1000     conda-forge\n",
            "    mock:                2.0.0-py36_1001             conda-forge\n",
            "    nbconvert:           5.4.1-py_2                  conda-forge\n",
            "    nbformat:            4.4.0-py_1                  conda-forge\n",
            "    networkx:            2.1-py_1                    conda-forge\n",
            "    notebook:            5.7.8-py36_0                conda-forge\n",
            "    numexpr:             2.6.9-py36h637b7d7_1000     conda-forge\n",
            "    numpy:               1.16.2-py36h8b7e671_1       conda-forge\n",
            "    olefile:             0.46-py_0                   conda-forge\n",
            "    openblas:            0.3.5-h9ac9557_1001         conda-forge\n",
            "    openmm:              7.3.1-py36_cuda92_rc_2      omnia      \n",
            "    pandas:              0.22.0-py36_1               conda-forge\n",
            "    pandoc:              2.7.2-0                     conda-forge\n",
            "    pandocfilters:       1.4.2-py_1                  conda-forge\n",
            "    parso:               0.4.0-py_0                  conda-forge\n",
            "    pbr:                 5.1.3-py_0                  conda-forge\n",
            "    pcre:                8.41-hf484d3e_1003          conda-forge\n",
            "    pdbfixer:            1.4-py36_0                  omnia      \n",
            "    pexpect:             4.7.0-py36_0                conda-forge\n",
            "    pickleshare:         0.7.5-py36_1000             conda-forge\n",
            "    pillow:              5.0.0-py36_0                conda-forge\n",
            "    pixman:              0.34.0-h14c3975_1003        conda-forge\n",
            "    prometheus_client:   0.6.0-py_0                  conda-forge\n",
            "    prompt_toolkit:      2.0.9-py_0                  conda-forge\n",
            "    protobuf:            3.7.1-py36he1b5a44_0        conda-forge\n",
            "    pthread-stubs:       0.4-h14c3975_1001           conda-forge\n",
            "    ptyprocess:          0.6.0-py_1001               conda-forge\n",
            "    pygments:            2.3.1-py_0                  conda-forge\n",
            "    pyparsing:           2.4.0-py_0                  conda-forge\n",
            "    pyqt:                5.6.0-py36h13b7fb3_1008     conda-forge\n",
            "    pyrsistent:          0.14.11-py36h14c3975_0      conda-forge\n",
            "    pytables:            3.5.1-py36h442f067_1        conda-forge\n",
            "    python-dateutil:     2.8.0-py_0                  conda-forge\n",
            "    pytz:                2019.1-py_0                 conda-forge\n",
            "    pyzmq:               18.0.1-py36h0e1adb2_0       conda-forge\n",
            "    qt:                  5.6.2-h50c60fd_8            conda-forge\n",
            "    qtconsole:           4.4.3-py_0                  conda-forge\n",
            "    rdkit:               2017.09.1-py36_1            rdkit      \n",
            "    scikit-learn:        0.19.1-py36_nomklh27f7947_0            \n",
            "    scipy:               1.2.1-py36h09a28d5_1        conda-forge\n",
            "    send2trash:          1.5.0-py_0                  conda-forge\n",
            "    simdna:              0.4.2-py_0                  deepchem   \n",
            "    sip:                 4.18.1-py36hf484d3e_1000    conda-forge\n",
            "    tensorboard:         1.6.0-py36_0                conda-forge\n",
            "    tensorflow-gpu:      1.6.0-0                                \n",
            "    tensorflow-gpu-base: 1.6.0-py36hcdda91b_1                   \n",
            "    termcolor:           1.1.0-py_2                  conda-forge\n",
            "    terminado:           0.8.2-py36_0                conda-forge\n",
            "    testpath:            0.4.2-py_1001               conda-forge\n",
            "    tornado:             6.0.2-py36h516909a_0        conda-forge\n",
            "    traitlets:           4.3.2-py36_1000             conda-forge\n",
            "    wcwidth:             0.1.7-py_1                  conda-forge\n",
            "    webencodings:        0.5.1-py_1                  conda-forge\n",
            "    werkzeug:            0.15.2-py_0                 conda-forge\n",
            "    widgetsnbextension:  3.4.2-py36_1000             conda-forge\n",
            "    xgboost:             0.6a2-py36_2                conda-forge\n",
            "    xorg-kbproto:        1.0.7-h14c3975_1002         conda-forge\n",
            "    xorg-libice:         1.0.9-h516909a_1004         conda-forge\n",
            "    xorg-libsm:          1.2.3-h84519dc_1000         conda-forge\n",
            "    xorg-libx11:         1.6.7-h14c3975_1000         conda-forge\n",
            "    xorg-libxau:         1.0.9-h14c3975_0            conda-forge\n",
            "    xorg-libxdmcp:       1.1.3-h516909a_0            conda-forge\n",
            "    xorg-libxext:        1.3.4-h516909a_0            conda-forge\n",
            "    xorg-libxrender:     0.9.10-h516909a_1002        conda-forge\n",
            "    xorg-renderproto:    0.11.1-h14c3975_1002        conda-forge\n",
            "    xorg-xextproto:      7.3.0-h14c3975_1002         conda-forge\n",
            "    xorg-xproto:         7.0.31-h14c3975_1007        conda-forge\n",
            "    zeromq:              4.2.5-hf484d3e_1006         conda-forge\n",
            "\n",
            "The following packages will be UPDATED:\n",
            "\n",
            "    asn1crypto:          0.24.0-py37_0                           --> 0.24.0-py36_1003          conda-forge\n",
            "    ca-certificates:     2018.03.07-0                            --> 2019.3.9-hecc5488_0       conda-forge\n",
            "    certifi:             2018.11.29-py37_0                       --> 2019.3.9-py36_0           conda-forge\n",
            "    cffi:                1.11.5-py37he75722e_1                   --> 1.12.2-py36hf0e25f4_1     conda-forge\n",
            "    chardet:             3.0.4-py37_1                            --> 3.0.4-py36_1003           conda-forge\n",
            "    conda:               4.5.12-py37_0                           --> 4.6.13-py36_0             conda-forge\n",
            "    cryptography:        2.4.2-py37h1ba5d50_0                    --> 2.5-py36hb7f436b_1        conda-forge\n",
            "    pip:                 18.1-py37_0                             --> 19.0.3-py36_0             conda-forge\n",
            "    pycosat:             0.6.3-py37h14c3975_0                    --> 0.6.3-py36h14c3975_1001   conda-forge\n",
            "    pycparser:           2.19-py37_0                             --> 2.19-py36_1               conda-forge\n",
            "    pyopenssl:           18.0.0-py37_0                           --> 19.0.0-py36_0             conda-forge\n",
            "    pysocks:             1.6.8-py37_0                            --> 1.6.8-py36_1002           conda-forge\n",
            "    ruamel_yaml:         0.15.46-py37h14c3975_0                  --> 0.15.71-py36h14c3975_1000 conda-forge\n",
            "    setuptools:          40.6.3-py37_0                           --> 41.0.0-py36_0             conda-forge\n",
            "    six:                 1.12.0-py37_0                           --> 1.12.0-py36_1000          conda-forge\n",
            "    wheel:               0.32.3-py37_0                           --> 0.33.1-py36_0             conda-forge\n",
            "\n",
            "The following packages will be DOWNGRADED:\n",
            "\n",
            "    idna:                2.8-py37_0                              --> 2.6-py36_1                conda-forge\n",
            "    openssl:             1.1.1a-h7b6447c_0                       --> 1.0.2r-h14c3975_0         conda-forge\n",
            "    python:              3.7.1-h0371630_7                        --> 3.6.6-hd21baee_1003       conda-forge\n",
            "    requests:            2.21.0-py37_0                           --> 2.18.4-py36_1             conda-forge\n",
            "    urllib3:             1.24.1-py37_0                           --> 1.22-py36_0               conda-forge\n",
            "\n",
            "\n",
            "Downloading and Extracting Packages\n",
            "wcwidth-0.1.7        | 17 KB     | : 100% 1.0/1 [00:00<00:00, 15.33it/s]\n",
            "olefile-0.46         | 31 KB     | : 100% 1.0/1 [00:00<00:00, 23.76it/s]\n",
            "backcall-0.1.0       | 13 KB     | : 100% 1.0/1 [00:00<00:00, 28.18it/s]\n",
            "xorg-libxau-1.0.9    | 13 KB     | : 100% 1.0/1 [00:00<00:00, 24.45it/s]\n",
            "matplotlib-2.2.2     | 9.2 MB    | : 100% 1.0/1 [00:01<00:00,  1.71s/it]              \n",
            "libtiff-4.0.9        | 566 KB    | : 100% 1.0/1 [00:00<00:00,  6.91it/s]               \n",
            "jupyter-1.0.0        | 4 KB      | : 100% 1.0/1 [00:00<00:00, 29.28it/s]\n",
            "jpeg-9c              | 251 KB    | : 100% 1.0/1 [00:00<00:00, 10.51it/s]\n",
            "setuptools-41.0.0    | 607 KB    | : 100% 1.0/1 [00:00<00:00,  4.82it/s]               \n",
            "scikit-learn-0.19.1  | 5.2 MB    | : 100% 1.0/1 [00:01<00:00,  1.48s/it]               \n",
            "xorg-libsm-1.2.3     | 25 KB     | : 100% 1.0/1 [00:00<00:00, 26.21it/s]\n",
            "pdbfixer-1.4         | 187 KB    | : 100% 1.0/1 [00:00<00:00,  1.08it/s]               \n",
            "blas-2.5             | 6 KB      | : 100% 1.0/1 [00:00<00:00, 28.44it/s]\n",
            "networkx-2.1         | 1.1 MB    | : 100% 1.0/1 [00:00<00:00,  2.08it/s]               \n",
            "gettext-0.19.8.1     | 3.6 MB    | : 100% 1.0/1 [00:01<00:00,  1.37s/it]               \n",
            "pyqt-5.6.0           | 5.4 MB    | : 100% 1.0/1 [00:01<00:00,  1.63s/it]               \n",
            "liblapack-3.8.0      | 6 KB      | : 100% 1.0/1 [00:00<00:00, 26.71it/s]\n",
            "libpng-1.6.34        | 304 KB    | : 100% 1.0/1 [00:00<00:00,  7.08it/s]               \n",
            "grpcio-1.16.0        | 1.0 MB    | : 100% 1.0/1 [00:00<00:00,  3.31it/s]               \n",
            "openmm-7.3.1         | 11.4 MB   | : 100% 1.0/1 [00:03<00:00,  3.46s/it]                \n",
            "hdf5-1.10.4          | 5.3 MB    | : 100% 1.0/1 [00:01<00:00,  1.19s/it]               \n",
            "pytz-2019.1          | 227 KB    | : 100% 1.0/1 [00:00<00:00,  4.16it/s]               \n",
            "bzip2-1.0.6          | 415 KB    | : 100% 1.0/1 [00:00<00:00,  8.14it/s]               \n",
            "jsonschema-3.0.1     | 84 KB     | : 100% 1.0/1 [00:00<00:00, 14.40it/s]\n",
            "tensorflow-gpu-1.6.0 | 3 KB      | : 100% 1.0/1 [00:00<00:00, 35.14it/s]\n",
            "expat-2.2.5          | 185 KB    | : 100% 1.0/1 [00:00<00:00, 12.48it/s]\n",
            "pysocks-1.6.8        | 22 KB     | : 100% 1.0/1 [00:00<00:00, 27.57it/s]\n",
            "parso-0.4.0          | 64 KB     | : 100% 1.0/1 [00:00<00:00, 15.33it/s]\n",
            "lzo-2.10             | 319 KB    | : 100% 1.0/1 [00:00<00:00,  9.55it/s]\n",
            "xorg-libx11-1.6.7    | 940 KB    | : 100% 1.0/1 [00:00<00:00,  4.37it/s]               \n",
            "requests-2.18.4      | 91 KB     | : 100% 1.0/1 [00:00<00:00, 17.04it/s]\n",
            "cryptography-2.5     | 645 KB    | : 100% 1.0/1 [00:00<00:00,  4.03it/s]               \n",
            "pcre-8.41            | 249 KB    | : 100% 1.0/1 [00:00<00:00, 12.22it/s]\n",
            "freetype-2.8.1       | 789 KB    | : 100% 1.0/1 [00:00<00:00,  4.74it/s]               \n",
            "cycler-0.10.0        | 8 KB      | : 100% 1.0/1 [00:00<00:00, 30.01it/s]\n",
            "rdkit-2017.09.1      | 19.7 MB   | : 100% 1.0/1 [00:04<00:00,  4.03s/it]               \n",
            "gstreamer-1.12.5     | 2.1 MB    | : 100% 1.0/1 [00:00<00:00,  2.35it/s]               \n",
            "pytables-3.5.1       | 1.4 MB    | : 100% 1.0/1 [00:00<00:00,  2.42it/s]               \n",
            "jupyter_console-6.0. | 19 KB     | : 100% 1.0/1 [00:00<00:00, 23.41it/s]\n",
            "blosc-1.16.3         | 885 KB    | : 100% 1.0/1 [00:00<00:00,  5.63it/s]               \n",
            "tensorboard-1.6.0    | 2.9 MB    | : 100% 1.0/1 [00:00<00:00,  1.72it/s]               \n",
            "openblas-0.3.5       | 15.8 MB   | : 100% 1.0/1 [00:03<00:00,  3.31s/it]               \n",
            "kiwisolver-1.0.1     | 84 KB     | : 100% 1.0/1 [00:00<00:00, 20.24it/s]\n",
            "pbr-5.1.3            | 70 KB     | : 100% 1.0/1 [00:00<00:00, 13.74it/s]\n",
            "tornado-6.0.2        | 636 KB    | : 100% 1.0/1 [00:00<00:00,  4.55it/s]               \n",
            "jedi-0.13.3          | 230 KB    | : 100% 1.0/1 [00:00<00:00,  7.33it/s]               \n",
            "pyopenssl-19.0.0     | 81 KB     | : 100% 1.0/1 [00:00<00:00, 16.89it/s]\n",
            "ipython-7.4.0        | 1.1 MB    | : 100% 1.0/1 [00:00<00:00,  2.50it/s]               \n",
            "pillow-5.0.0         | 975 KB    | : 100% 1.0/1 [00:00<00:00,  3.86it/s]               \n",
            "idna-2.6             | 122 KB    | : 100% 1.0/1 [00:00<00:00, 16.95it/s]\n",
            "libxcb-1.13          | 396 KB    | : 100% 1.0/1 [00:00<00:00,  6.31it/s]              \n",
            "glib-2.55.0          | 6.1 MB    | : 100% 1.0/1 [00:01<00:00,  1.67s/it]               \n",
            "libprotobuf-3.7.1    | 4.6 MB    | : 100% 1.0/1 [00:01<00:00,  1.03s/it]               \n",
            "astor-0.7.1          | 22 KB     | : 100% 1.0/1 [00:00<00:00, 20.51it/s]\n",
            "numexpr-2.6.9        | 194 KB    | : 100% 1.0/1 [00:00<00:00, 12.94it/s]\n",
            "asn1crypto-0.24.0    | 154 KB    | : 100% 1.0/1 [00:00<00:00, 12.50it/s]\n",
            "ipywidgets-7.4.2     | 92 KB     | : 100% 1.0/1 [00:00<00:00, 13.51it/s]\n",
            "libopenblas-0.2.20   | 8.8 MB    | : 100% 1.0/1 [00:01<00:00,  1.89s/it]               \n",
            "gast-0.2.2           | 10 KB     | : 100% 1.0/1 [00:00<00:00, 22.64it/s]\n",
            "simdna-0.4.2         | 627 KB    | : 100% 1.0/1 [00:00<00:00,  6.92s/it]               \n",
            "gst-plugins-base-1.1 | 4.9 MB    | : 100% 1.0/1 [00:00<00:00,  1.18it/s]             \n",
            "prometheus_client-0. | 34 KB     | : 100% 1.0/1 [00:00<00:00, 22.57it/s]\n",
            "ipython_genutils-0.2 | 21 KB     | : 100% 1.0/1 [00:00<00:00, 17.08it/s]\n",
            "widgetsnbextension-3 | 1.7 MB    | : 100% 1.0/1 [00:00<00:00,  2.34it/s]               \n",
            "xorg-kbproto-1.0.7   | 26 KB     | : 100% 1.0/1 [00:00<00:00,  6.56it/s]                \n",
            "xorg-libice-1.0.9    | 58 KB     | : 100% 1.0/1 [00:00<00:00, 21.22it/s]\n",
            "xorg-libxrender-0.9. | 31 KB     | : 100% 1.0/1 [00:00<00:00, 20.54it/s]\n",
            "pthread-stubs-0.4    | 5 KB      | : 100% 1.0/1 [00:00<00:00, 23.90it/s]\n",
            "cupti-9.0.176        | 1.6 MB    | : 100% 1.0/1 [00:00<00:00,  3.03it/s]               \n",
            "testpath-0.4.2       | 85 KB     | : 100% 1.0/1 [00:00<00:00, 22.89it/s]\n",
            "deepchem-gpu-2.1.0   | 1.9 MB    | : 100% 1.0/1 [00:00<00:00,  1.23it/s]               \n",
            "nbconvert-5.4.1      | 332 KB    | : 100% 1.0/1 [00:00<00:00,  7.24it/s]               \n",
            "fftw3f-3.3.4         | 1.2 MB    | : 100% 1.0/1 [00:00<00:00,  2.36it/s]               \n",
            "webencodings-0.5.1   | 12 KB     | : 100% 1.0/1 [00:00<00:00, 16.80it/s]\n",
            "python-3.6.6         | 29.0 MB   | : 100% 1.0/1 [00:05<00:00,  5.69s/it]               \n",
            "ptyprocess-0.6.0     | 15 KB     | : 100% 1.0/1 [00:00<00:00, 21.04it/s]\n",
            "sip-4.18.1           | 277 KB    | : 100% 1.0/1 [00:00<00:00, 12.87it/s]\n",
            "qtconsole-4.4.3      | 81 KB     | : 100% 1.0/1 [00:00<00:00, 16.65it/s]\n",
            "decorator-4.4.0      | 11 KB     | : 100% 1.0/1 [00:00<00:00, 30.11it/s]\n",
            "libcblas-3.8.0       | 6 KB      | : 100% 1.0/1 [00:00<00:00, 29.44it/s]\n",
            "pip-19.0.3           | 1.8 MB    | : 100% 1.0/1 [00:00<00:00,  1.82it/s]               \n",
            "mistune-0.8.4        | 53 KB     | : 100% 1.0/1 [00:00<00:00, 13.98it/s]\n",
            "libsodium-1.0.16     | 306 KB    | : 100% 1.0/1 [00:00<00:00,  9.70it/s]\n",
            "bleach-1.5.0         | 23 KB     | : 100% 1.0/1 [00:00<00:00, 25.19it/s]\n",
            "pycosat-0.6.3        | 104 KB    | : 100% 1.0/1 [00:00<00:00, 20.05it/s]\n",
            "termcolor-1.1.0      | 6 KB      | : 100% 1.0/1 [00:00<00:00, 25.61it/s]\n",
            "libblas-3.8.0        | 6 KB      | : 100% 1.0/1 [00:00<00:00, 24.47it/s]\n",
            "libiconv-1.15        | 2.0 MB    | : 100% 1.0/1 [00:00<00:00,  3.16it/s]               \n",
            "mock-2.0.0           | 106 KB    | : 100% 1.0/1 [00:00<00:00, 14.63it/s]\n",
            "icu-58.2             | 22.6 MB   | : 100% 1.0/1 [00:03<00:00,  3.81s/it]               \n",
            "notebook-5.7.8       | 7.2 MB    | : 100% 1.0/1 [00:01<00:00,  1.89s/it]               \n",
            "jinja2-2.10.1        | 91 KB     | : 100% 1.0/1 [00:00<00:00, 16.57it/s]\n",
            "pickleshare-0.7.5    | 12 KB     | : 100% 1.0/1 [00:00<00:00, 29.39it/s]\n",
            "werkzeug-0.15.2      | 257 KB    | : 100% 1.0/1 [00:00<00:00,  3.55it/s]               \n",
            "zeromq-4.2.5         | 608 KB    | : 100% 1.0/1 [00:00<00:00,  5.58it/s]               \n",
            "pycparser-2.19       | 173 KB    | : 100% 1.0/1 [00:00<00:00, 12.65it/s]\n",
            "absl-py-0.7.1        | 154 KB    | : 100% 1.0/1 [00:00<00:00, 12.29it/s]\n",
            "pyrsistent-0.14.11   | 87 KB     | : 100% 1.0/1 [00:00<00:00, 17.64it/s]\n",
            "xorg-libxdmcp-1.1.3  | 18 KB     | : 100% 1.0/1 [00:00<00:00, 23.13it/s]\n",
            "chardet-3.0.4        | 190 KB    | : 100% 1.0/1 [00:00<00:00, 11.26it/s]\n",
            "xorg-renderproto-0.1 | 8 KB      | : 100% 1.0/1 [00:00<00:00, 22.67it/s]\n",
            "conda-4.6.13         | 2.1 MB    | : 100% 1.0/1 [00:00<00:00,  1.50it/s]               \n",
            "numpy-1.16.2         | 4.3 MB    | : 100% 1.0/1 [00:01<00:00,  1.11s/it]               \n",
            "liblapacke-3.8.0     | 6 KB      | : 100% 1.0/1 [00:00<00:00, 18.99it/s]\n",
            "pygments-2.3.1       | 641 KB    | : 100% 1.0/1 [00:00<00:00,  4.75it/s]               \n",
            "pyparsing-2.4.0      | 55 KB     | : 100% 1.0/1 [00:00<00:00, 24.20it/s]\n",
            "xgboost-0.6a2        | 1.1 MB    | : 100% 1.0/1 [00:00<00:00,  2.95it/s]               \n",
            "markdown-2.6.11      | 56 KB     | : 100% 1.0/1 [00:00<00:00, 18.86it/s]\n",
            "xorg-xextproto-7.3.0 | 27 KB     | : 100% 1.0/1 [00:00<00:00, 16.19it/s]\n",
            "attrs-19.1.0         | 32 KB     | : 100% 1.0/1 [00:00<00:00, 16.90it/s]\n",
            "protobuf-3.7.1       | 645 KB    | : 100% 1.0/1 [00:00<00:00,  4.03it/s]               \n",
            "traitlets-4.3.2      | 131 KB    | : 100% 1.0/1 [00:00<00:00, 12.20it/s]\n",
            "mdtraj-1.9.1         | 5.9 MB    | : 100% 1.0/1 [00:01<00:00,  1.57s/it]               \n",
            "c-ares-1.15.0        | 98 KB     | : 100% 1.0/1 [00:00<00:00, 13.32it/s]\n",
            "pandas-0.22.0        | 26.1 MB   | : 100% 1.0/1 [00:05<00:00,  5.10s/it]              \n",
            "wheel-0.33.1         | 34 KB     | : 100% 1.0/1 [00:00<00:00, 19.07it/s]\n",
            "certifi-2019.3.9     | 149 KB    | : 100% 1.0/1 [00:00<00:00, 16.41it/s]\n",
            "entrypoints-0.3      | 12 KB     | : 100% 1.0/1 [00:00<00:00, 27.80it/s]\n",
            "joblib-0.11          | 193 KB    | : 100% 1.0/1 [00:00<00:00,  9.58it/s]\n",
            "send2trash-1.5.0     | 12 KB     | : 100% 1.0/1 [00:00<00:00, 25.87it/s]\n",
            "pexpect-4.7.0        | 78 KB     | : 100% 1.0/1 [00:00<00:00, 15.99it/s]\n",
            "pandoc-2.7.2         | 21.7 MB   | : 100% 1.0/1 [00:05<00:00,  5.07s/it]               \n",
            "jupyter_client-5.2.4 | 63 KB     | : 100% 1.0/1 [00:00<00:00, 17.61it/s]\n",
            "cairo-1.14.12        | 1.3 MB    | : 100% 1.0/1 [00:00<00:00,  2.92it/s]               \n",
            "ruamel_yaml-0.15.71  | 257 KB    | : 100% 1.0/1 [00:00<00:00, 10.00it/s]\n",
            "cudnn-7.3.1          | 331.3 MB  | : 100% 1.0/1 [00:49<00:00, 49.68s/it]                \n",
            "scipy-1.2.1          | 18.1 MB   | : 100% 1.0/1 [00:03<00:00,  3.61s/it]               \n",
            "ca-certificates-2019 | 146 KB    | : 100% 1.0/1 [00:00<00:00, 14.49it/s]\n",
            "xorg-xproto-7.0.31   | 72 KB     | : 100% 1.0/1 [00:00<00:00, 18.06it/s]\n",
            "python-dateutil-2.8. | 219 KB    | : 100% 1.0/1 [00:00<00:00, 14.54it/s]\n",
            "nbformat-4.4.0       | 91 KB     | : 100% 1.0/1 [00:00<00:00, 15.03it/s]\n",
            "libgfortran-ng-7.3.0 | 1.3 MB    | : 100% 1.0/1 [00:00<00:00,  3.68it/s]               \n",
            "defusedxml-0.5.0     | 20 KB     | : 100% 1.0/1 [00:00<00:00, 23.55it/s]\n",
            "xorg-libxext-1.3.4   | 51 KB     | : 100% 1.0/1 [00:00<00:00, 19.07it/s]\n",
            "six-1.12.0           | 22 KB     | : 100% 1.0/1 [00:00<00:00, 21.29it/s]\n",
            "markupsafe-1.1.1     | 26 KB     | : 100% 1.0/1 [00:00<00:00, 26.45it/s]\n",
            "boost-1.63.0         | 11.8 MB   | : 100% 1.0/1 [00:07<00:00,  7.44s/it]               \n",
            "dbus-1.13.0          | 558 KB    | : 100% 1.0/1 [00:00<00:00,  5.95it/s]               \n",
            "terminado-0.8.2      | 23 KB     | : 100% 1.0/1 [00:00<00:00, 16.35it/s]\n",
            "libxml2-2.9.8        | 2.0 MB    | : 100% 1.0/1 [00:00<00:00,  1.80it/s]               \n",
            "jupyter_core-4.4.0   | 44 KB     | : 100% 1.0/1 [00:00<00:00, 16.92it/s]\n",
            "pyzmq-18.0.1         | 515 KB    | : 100% 1.0/1 [00:00<00:00,  5.14it/s]               \n",
            "ipykernel-5.1.0      | 156 KB    | : 100% 1.0/1 [00:00<00:00,  8.77it/s]\n",
            "urllib3-1.22         | 154 KB    | : 100% 1.0/1 [00:00<00:00, 12.22it/s]\n",
            "pandocfilters-1.4.2  | 9 KB      | : 100% 1.0/1 [00:00<00:00, 27.02it/s]\n",
            "cffi-1.12.2          | 218 KB    | : 100% 1.0/1 [00:00<00:00, 11.52it/s]\n",
            "pixman-0.34.0        | 595 KB    | : 100% 1.0/1 [00:00<00:00,  7.79it/s]               \n",
            "html5lib-0.9999999   | 181 KB    | : 100% 1.0/1 [00:00<00:00,  7.03it/s]               \n",
            "tensorflow-gpu-base- | 154.9 MB  | : 100% 1.0/1 [00:37<00:00, 417.21s/it]              \n",
            "qt-5.6.2             | 44.3 MB   | : 100% 1.0/1 [00:10<00:00, 10.89s/it]               \n",
            "libuuid-2.32.1       | 26 KB     | : 100% 1.0/1 [00:00<00:00, 21.59it/s]\n",
            "openssl-1.0.2r       | 3.1 MB    | : 100% 1.0/1 [00:00<00:00,  1.62it/s]               \n",
            "fontconfig-2.13.0    | 284 KB    | : 100% 1.0/1 [00:00<00:00,  8.65it/s]               \n",
            "prompt_toolkit-2.0.9 | 222 KB    | : 100% 1.0/1 [00:00<00:00,  7.53it/s]               \n",
            "cudatoolkit-9.0      | 340.4 MB  | : 100% 1.0/1 [00:47<00:00, 47.99s/it]                \n",
            "Preparing transaction: \\ \b\b| \b\b/ \b\b- \b\b\\ \b\b| \b\b/ \b\b- \b\b\\ \b\b| \b\b/ \b\b- \b\b\\ \b\b| \b\b/ \b\b- \b\b\\ \b\b| \b\b/ \b\b- \b\b\\ \b\b| \b\b/ \b\b- \b\b\\ \b\bdone\n",
            "Verifying transaction: / \b\b- \b\b\\ \b\b| \b\b/ \b\b- \b\b\\ \b\b| \b\b/ \b\b- \b\b\\ \b\b| \b\b/ \b\b- \b\b\\ \b\b| \b\b/ \b\b- \b\b\\ \b\b| \b\b/ \b\b- \b\b\\ \b\b| \b\b/ \b\b- \b\b\\ \b\b| \b\b/ \b\b- \b\b\\ \b\b| \b\b/ \b\b- \b\b\\ \b\b| \b\b/ \b\b- \b\b\\ \b\b| \b\b/ \b\b- \b\b\\ \b\b| \b\b/ \b\b- \b\b\\ \b\b| \b\b/ \b\b- \b\b\\ \b\b| \b\b/ \b\b- \b\b\\ \b\b| \b\b/ \b\b- \b\b\\ \b\b| \b\b/ \b\b- \b\b\\ \b\b| \b\b/ \b\b- \b\b\\ \b\b| \b\b/ \b\b- \b\b\\ \b\b| \b\bdone\n",
            "Executing transaction: - \b\b\\ \b\b| \b\b/ \b\b- \b\b\\ \b\b| \b\b/ \b\b- \b\b\\ \b\b| \b\b/ \b\b- \b\b\\ \b\b| \b\b/ \b\b- \b\b\\ \b\b| \b\b/ \b\b- \b\b\\ \b\b| \b\b/ \b\b- \b\b\\ \b\b| \b\b/ \b\b- \b\b\\ \b\b| \b\b/ \b\b- \b\b\\ \b\b| \b\b/ \b\b- \b\b\\ \b\b| \b\b/ \b\b- \b\b\\ \b\b| \b\b/ \b\b- \b\b\\ \b\b| \b\b/ \b\b- \b\b\\ \b\b| \b\b/ \b\b- \b\b\\ \b\b| \b\b/ \b\b- \b\b\\ \b\b| \b\b/ \b\b- \b\b\\ \b\b| \b\b/ \b\b- \b\b\\ \b\b| \b\b/ \b\b- \b\b\\ \b\b| \b\b/ \b\b- \b\b\\ \b\b| \b\b/ \b\b- \b\b\\ \b\b| \b\b/ \b\b- Enabling notebook extension jupyter-js-widgets/extension...\n",
            "Paths used for configuration of notebook: \n",
            "    \t/usr/local/etc/jupyter/nbconfig/notebook.d/plotlywidget.json\n",
            "    \t/usr/local/etc/jupyter/nbconfig/notebook.d/widgetsnbextension.json\n",
            "    \t/usr/local/etc/jupyter/nbconfig/notebook.json\n",
            "Paths used for configuration of notebook: \n",
            "    \t/usr/local/etc/jupyter/nbconfig/notebook.d/plotlywidget.json\n",
            "    \t/usr/local/etc/jupyter/nbconfig/notebook.d/widgetsnbextension.json\n",
            "      - Validating: \u001b[32mOK\u001b[0m\n",
            "Paths used for configuration of notebook: \n",
            "    \t/usr/local/etc/jupyter/nbconfig/notebook.d/plotlywidget.json\n",
            "    \t/usr/local/etc/jupyter/nbconfig/notebook.d/widgetsnbextension.json\n",
            "    \t/usr/local/etc/jupyter/nbconfig/notebook.json\n",
            "\n",
            "\b\b\\ \b\b| \b\b/ \b\b- \b\b\\ \b\b| \b\b/ \b\b- \b\b\\ \b\b| \b\b/ \b\b- \b\b\\ \b\b| \b\b/ \b\b- \b\b\\ \b\b| \b\b/ \b\b- \b\b\\ \b\b| \b\b/ \b\b- \b\b\\ \b\b| \b\b/ \b\b- \b\bdone\n"
          ],
          "name": "stdout"
        }
      ]
    },
    {
      "metadata": {
        "id": "s9U9YXmkO06r",
        "colab_type": "code",
        "outputId": "342d1b95-f4f9-4220-c0a7-28b7a1eeee98",
        "colab": {
          "base_uri": "https://localhost:8080/",
          "height": 173
        }
      },
      "cell_type": "code",
      "source": [
        "import sys\n",
        "sys.path"
      ],
      "execution_count": 0,
      "outputs": [
        {
          "output_type": "execute_result",
          "data": {
            "text/plain": [
              "['',\n",
              " '/env/python',\n",
              " '/usr/lib/python36.zip',\n",
              " '/usr/lib/python3.6',\n",
              " '/usr/lib/python3.6/lib-dynload',\n",
              " '/usr/local/lib/python3.6/dist-packages',\n",
              " '/usr/lib/python3/dist-packages',\n",
              " '/usr/local/lib/python3.6/dist-packages/IPython/extensions',\n",
              " '/root/.ipython']"
            ]
          },
          "metadata": {
            "tags": []
          },
          "execution_count": 8
        }
      ]
    },
    {
      "metadata": {
        "id": "FqjuQDcHO8sM",
        "colab_type": "code",
        "colab": {}
      },
      "cell_type": "code",
      "source": [
        "sys.path.append('/usr/local/lib/python3.6/site-packages/')"
      ],
      "execution_count": 0,
      "outputs": []
    },
    {
      "metadata": {
        "id": "j1-Dy11vrO0C",
        "colab_type": "code",
        "outputId": "84d412ff-36a1-482f-8b22-1f301b4a40dc",
        "colab": {
          "base_uri": "https://localhost:8080/",
          "height": 191
        }
      },
      "cell_type": "code",
      "source": [
        "sys.path"
      ],
      "execution_count": 0,
      "outputs": [
        {
          "output_type": "execute_result",
          "data": {
            "text/plain": [
              "['',\n",
              " '/env/python',\n",
              " '/usr/lib/python36.zip',\n",
              " '/usr/lib/python3.6',\n",
              " '/usr/lib/python3.6/lib-dynload',\n",
              " '/usr/local/lib/python3.6/dist-packages',\n",
              " '/usr/lib/python3/dist-packages',\n",
              " '/usr/local/lib/python3.6/dist-packages/IPython/extensions',\n",
              " '/root/.ipython',\n",
              " '/usr/local/lib/python3.6/site-packages/']"
            ]
          },
          "metadata": {
            "tags": []
          },
          "execution_count": 10
        }
      ]
    },
    {
      "metadata": {
        "id": "woLltdVDfKN_",
        "colab_type": "code",
        "colab": {}
      },
      "cell_type": "code",
      "source": [
        "import deepchem"
      ],
      "execution_count": 0,
      "outputs": []
    },
    {
      "metadata": {
        "id": "AbfC_azJR860",
        "colab_type": "code",
        "outputId": "91f26129-bbb5-4732-c05f-5cebaaa909fd",
        "colab": {
          "base_uri": "https://localhost:8080/",
          "height": 16888
        }
      },
      "cell_type": "code",
      "source": [
        "#Copyright 2017 PandeLab\n",
        "\n",
        "#Permission is hereby granted, free of charge, to any person obtaining a copy of this software and associated documentation files (the \"Software\"),\n",
        "# to deal in the Software without restriction, including without limitation the rights to use, copy, modify, merge, publish, distribute, sublicense,\n",
        "# and/or sell copies of the Software, and to permit persons to whom the Software is furnished to do so, subject to the following conditions:\n",
        "\n",
        "#The above copyright notice and this permission notice shall be included in all copies or substantial portions of the Software.\n",
        "\n",
        "#THE SOFTWARE IS PROVIDED \"AS IS\", WITHOUT WARRANTY OF ANY KIND, EXPRESS OR IMPLIED, INCLUDING BUT NOT LIMITED TO THE WARRANTIES OF MERCHANTABILITY,\n",
        "#FITNESS FOR A PARTICULAR PURPOSE AND NONINFRINGEMENT. IN NO EVENT SHALL THE AUTHORS OR COPYRIGHT HOLDERS BE LIABLE FOR ANY CLAIM, DAMAGES OR OTHER LIABILITY,\n",
        "# WHETHER IN AN ACTION OF CONTRACT, TORT OR OTHERWISE, ARISING FROM, OUT OF OR IN CONNECTION WITH THE SOFTWARE OR THE USE OR OTHER DEALINGS IN THE SOFTWARE.\n",
        "\n",
        "\n",
        "#In this program, we analyze the BACE enyzme and build machine learning models for predicting the Ki of ligands to the protein.\n",
        "#We will use the deepchem library to load this data into memory, split into train/test/validation folds, build and cross-validate models, and report statistics.\n",
        "\n",
        "import os\n",
        "import sys\n",
        "import deepchem as dc\n",
        "from deepchem.utils.save import load_from_disk\n",
        "\n",
        "current_dir = os.path.dirname(os.path.realpath(\"__file__\"))\n",
        "dc.utils.download_url(\"https://s3-us-west-1.amazonaws.com/deepchem.io/datasets/desc_canvas_aug30.csv\",\n",
        "                      current_dir)\n",
        "dataset_file = \"desc_canvas_aug30.csv\"\n",
        "dataset = load_from_disk(dataset_file)\n",
        "num_display=10\n",
        "pretty_columns = (\n",
        "    \"[\" + \",\".join([\"'%s'\" % column for column in dataset.columns.values[:num_display]])\n",
        "    + \",...]\")\n",
        "\n",
        "dc.utils.download_url(\"https://s3-us-west-1.amazonaws.com/deepchem.io/datasets/crystal_desc_canvas_aug30.csv\",\n",
        "                      current_dir)\n",
        "crystal_dataset_file = \"crystal_desc_canvas_aug30.csv\"\n",
        "crystal_dataset = load_from_disk(crystal_dataset_file)\n",
        "\n",
        "print(\"Columns of dataset: %s\" % pretty_columns)\n",
        "print(\"Number of examples in dataset: %s\" % str(dataset.shape[0]))\n",
        "print(\"Number of examples in crystal dataset: %s\" % str(crystal_dataset.shape[0]))\n",
        "\n",
        "\n",
        "#To gain a visual understanding of compounds in our dataset, let’s draw them using rdkit. We define a couple of helper functions to get started.\n",
        "\n",
        "import tempfile\n",
        "from rdkit import Chem\n",
        "from rdkit.Chem import Draw\n",
        "from itertools import islice\n",
        "from IPython.display import Image, display, HTML\n",
        "\n",
        "def display_images(filenames):\n",
        "    \"\"\"Helper to pretty-print images.\"\"\"\n",
        "    for filename in filenames:\n",
        "        display(Image(filename))\n",
        "\n",
        "def mols_to_pngs(mols, basename=\"test\"):\n",
        "    \"\"\"Helper to write RDKit mols to png files.\"\"\"\n",
        "    filenames = []\n",
        "    for i, mol in enumerate(mols):\n",
        "        filename = \"BACE_%s%d.png\" % (basename, i)\n",
        "        Draw.MolToFile(mol, filename)\n",
        "        filenames.append(filename)\n",
        "    return filenames\n",
        "\n",
        "\n",
        "\n",
        "#Now, we display a compound from the dataset. Note the complex ring structures and polar structures.\n",
        "\n",
        "num_to_display = 12\n",
        "molecules = []\n",
        "for _, data in islice(dataset.iterrows(), num_to_display):\n",
        "    molecules.append(Chem.MolFromSmiles(data[\"mol\"]))\n",
        "display_images(mols_to_pngs(molecules, basename=\"dataset\"))\n",
        "\n",
        "#Now let’s picture the compounds in the crystal structure collection\n",
        "\n",
        "num_to_display = 12\n",
        "molecules = []\n",
        "for _, data in islice(crystal_dataset.iterrows(), num_to_display):\n",
        "    molecules.append(Chem.MolFromSmiles(data[\"mol\"]))\n",
        "display_images(mols_to_pngs(molecules, basename=\"crystal_dataset\"))\n",
        "\n",
        "\n",
        "#Analyzing the distribution of pIC50 values in the dataset gives us a nice spread.\n",
        "\n",
        "import matplotlib\n",
        "\n",
        "import matplotlib.pyplot as plot\n",
        "\n",
        "#import cupy as np\n",
        "#pIC50s = np.array_str(dataset[\"pIC50\"], suppress_small=True)\n",
        "\n",
        "import numpy as np\n",
        "pIC50s = np.array(dataset[\"pIC50\"])\n",
        "\n",
        "# Remove some dirty data from the dataset\n",
        "pIC50s = [pIC50 for pIC50 in pIC50s if pIC50 != '']\n",
        "n, bins, patches = plot.hist(pIC50s, 50, facecolor='green', alpha=0.75)\n",
        "plot.xlabel('Measured pIC50')\n",
        "plot.ylabel('Number of compounds')\n",
        "plot.title(r'Histogram of pIC50 Values')\n",
        "plot.grid(True)\n",
        "plot.show()\n",
        "\n",
        "#We now featurize the data using the Canvas samples. To do so, we must specify the columns in the data input that correspond to the features. (Note that CanvasUID is excluded!)\n",
        "\n",
        "user_specified_features = ['MW','AlogP','HBA','HBD','RB','HeavyAtomCount','ChiralCenterCount','ChiralCenterCountAllPossible','RingCount','PSA','Estate','MR','Polar','sLi_Key','ssBe_Key','ssssBem_Key','sBH2_Key','ssBH_Key','sssB_Key','ssssBm_Key','sCH3_Key','dCH2_Key','ssCH2_Key','tCH_Key','dsCH_Key','aaCH_Key','sssCH_Key','ddC_Key','tsC_Key','dssC_Key','aasC_Key','aaaC_Key','ssssC_Key','sNH3_Key','sNH2_Key','ssNH2_Key','dNH_Key','ssNH_Key','aaNH_Key','tN_Key','sssNH_Key','dsN_Key','aaN_Key','sssN_Key','ddsN_Key','aasN_Key','ssssN_Key','daaN_Key','sOH_Key','dO_Key','ssO_Key','aaO_Key','aOm_Key','sOm_Key','sF_Key','sSiH3_Key','ssSiH2_Key','sssSiH_Key','ssssSi_Key','sPH2_Key','ssPH_Key','sssP_Key','dsssP_Key','ddsP_Key','sssssP_Key','sSH_Key','dS_Key','ssS_Key','aaS_Key','dssS_Key','ddssS_Key','ssssssS_Key','Sm_Key','sCl_Key','sGeH3_Key','ssGeH2_Key','sssGeH_Key','ssssGe_Key','sAsH2_Key','ssAsH_Key','sssAs_Key','dsssAs_Key','ddsAs_Key','sssssAs_Key','sSeH_Key','dSe_Key','ssSe_Key','aaSe_Key','dssSe_Key','ssssssSe_Key','ddssSe_Key','sBr_Key','sSnH3_Key','ssSnH2_Key','sssSnH_Key','ssssSn_Key','sI_Key','sPbH3_Key','ssPbH2_Key','sssPbH_Key','ssssPb_Key','sLi_Cnt','ssBe_Cnt','ssssBem_Cnt','sBH2_Cnt','ssBH_Cnt','sssB_Cnt','ssssBm_Cnt','sCH3_Cnt','dCH2_Cnt','ssCH2_Cnt','tCH_Cnt','dsCH_Cnt','aaCH_Cnt','sssCH_Cnt','ddC_Cnt','tsC_Cnt','dssC_Cnt','aasC_Cnt','aaaC_Cnt','ssssC_Cnt','sNH3_Cnt','sNH2_Cnt','ssNH2_Cnt','dNH_Cnt','ssNH_Cnt','aaNH_Cnt','tN_Cnt','sssNH_Cnt','dsN_Cnt','aaN_Cnt','sssN_Cnt','ddsN_Cnt','aasN_Cnt','ssssN_Cnt','daaN_Cnt','sOH_Cnt','dO_Cnt','ssO_Cnt','aaO_Cnt','aOm_Cnt','sOm_Cnt','sF_Cnt','sSiH3_Cnt','ssSiH2_Cnt','sssSiH_Cnt','ssssSi_Cnt','sPH2_Cnt','ssPH_Cnt','sssP_Cnt','dsssP_Cnt','ddsP_Cnt','sssssP_Cnt','sSH_Cnt','dS_Cnt','ssS_Cnt','aaS_Cnt','dssS_Cnt','ddssS_Cnt','ssssssS_Cnt','Sm_Cnt','sCl_Cnt','sGeH3_Cnt','ssGeH2_Cnt','sssGeH_Cnt','ssssGe_Cnt','sAsH2_Cnt','ssAsH_Cnt','sssAs_Cnt','dsssAs_Cnt','ddsAs_Cnt','sssssAs_Cnt','sSeH_Cnt','dSe_Cnt','ssSe_Cnt','aaSe_Cnt','dssSe_Cnt','ssssssSe_Cnt','ddssSe_Cnt','sBr_Cnt','sSnH3_Cnt','ssSnH2_Cnt','sssSnH_Cnt','ssssSn_Cnt','sI_Cnt','sPbH3_Cnt','ssPbH2_Cnt','sssPbH_Cnt','ssssPb_Cnt','sLi_Sum','ssBe_Sum','ssssBem_Sum','sBH2_Sum','ssBH_Sum','sssB_Sum','ssssBm_Sum','sCH3_Sum','dCH2_Sum','ssCH2_Sum','tCH_Sum','dsCH_Sum','aaCH_Sum','sssCH_Sum','ddC_Sum','tsC_Sum','dssC_Sum','aasC_Sum','aaaC_Sum','ssssC_Sum','sNH3_Sum','sNH2_Sum','ssNH2_Sum','dNH_Sum','ssNH_Sum','aaNH_Sum','tN_Sum','sssNH_Sum','dsN_Sum','aaN_Sum','sssN_Sum','ddsN_Sum','aasN_Sum','ssssN_Sum','daaN_Sum','sOH_Sum','dO_Sum','ssO_Sum','aaO_Sum','aOm_Sum','sOm_Sum','sF_Sum','sSiH3_Sum','ssSiH2_Sum','sssSiH_Sum','ssssSi_Sum','sPH2_Sum','ssPH_Sum','sssP_Sum','dsssP_Sum','ddsP_Sum','sssssP_Sum','sSH_Sum','dS_Sum','ssS_Sum','aaS_Sum','dssS_Sum','ddssS_Sum','ssssssS_Sum','Sm_Sum','sCl_Sum','sGeH3_Sum','ssGeH2_Sum','sssGeH_Sum','ssssGe_Sum','sAsH2_Sum','ssAsH_Sum','sssAs_Sum','dsssAs_Sum','ddsAs_Sum','sssssAs_Sum','sSeH_Sum','dSe_Sum','ssSe_Sum','aaSe_Sum','dssSe_Sum','ssssssSe_Sum','ddssSe_Sum','sBr_Sum','sSnH3_Sum','ssSnH2_Sum','sssSnH_Sum','ssssSn_Sum','sI_Sum','sPbH3_Sum','ssPbH2_Sum','sssPbH_Sum','ssssPb_Sum','sLi_Avg','ssBe_Avg','ssssBem_Avg','sBH2_Avg','ssBH_Avg','sssB_Avg','ssssBm_Avg','sCH3_Avg','dCH2_Avg','ssCH2_Avg','tCH_Avg','dsCH_Avg','aaCH_Avg','sssCH_Avg','ddC_Avg','tsC_Avg','dssC_Avg','aasC_Avg','aaaC_Avg','ssssC_Avg','sNH3_Avg','sNH2_Avg','ssNH2_Avg','dNH_Avg','ssNH_Avg','aaNH_Avg','tN_Avg','sssNH_Avg','dsN_Avg','aaN_Avg','sssN_Avg','ddsN_Avg','aasN_Avg','ssssN_Avg','daaN_Avg','sOH_Avg','dO_Avg','ssO_Avg','aaO_Avg','aOm_Avg','sOm_Avg','sF_Avg','sSiH3_Avg','ssSiH2_Avg','sssSiH_Avg','ssssSi_Avg','sPH2_Avg','ssPH_Avg','sssP_Avg','dsssP_Avg','ddsP_Avg','sssssP_Avg','sSH_Avg','dS_Avg','ssS_Avg','aaS_Avg','dssS_Avg','ddssS_Avg','ssssssS_Avg','Sm_Avg','sCl_Avg','sGeH3_Avg','ssGeH2_Avg','sssGeH_Avg','ssssGe_Avg','sAsH2_Avg','ssAsH_Avg','sssAs_Avg','dsssAs_Avg','ddsAs_Avg','sssssAs_Avg','sSeH_Avg','dSe_Avg','ssSe_Avg','aaSe_Avg','dssSe_Avg','ssssssSe_Avg','ddssSe_Avg','sBr_Avg','sSnH3_Avg','ssSnH2_Avg','sssSnH_Avg','ssssSn_Avg','sI_Avg','sPbH3_Avg','ssPbH2_Avg','sssPbH_Avg','ssssPb_Avg','First Zagreb (ZM1)','First Zagreb index by valence vertex degrees (ZM1V)','Second Zagreb (ZM2)','Second Zagreb index by valence vertex degrees (ZM2V)','Polarity (Pol)','Narumi Simple Topological (NST)','Narumi Harmonic Topological (NHT)','Narumi Geometric Topological (NGT)','Total structure connectivity (TSC)','Wiener (W)','Mean Wiener (MW)','Xu (Xu)','Quadratic (QIndex)','Radial centric (RC)','Mean Square Distance Balaban (MSDB)','Superpendentic (SP)','Harary (Har)','Log of product of row sums (LPRS)','Pogliani (Pog)','Schultz Molecular Topological (SMT)','Schultz Molecular Topological by valence vertex degrees (SMTV)','Mean Distance Degree Deviation (MDDD)','Ramification (Ram)','Gutman Molecular Topological (GMT)','Gutman MTI by valence vertex degrees (GMTV)','Average vertex distance degree (AVDD)','Unipolarity (UP)','Centralization (CENT)','Variation (VAR)','Molecular electrotopological variation (MEV)','Maximal electrotopological positive variation (MEPV)','Maximal electrotopological negative variation (MENV)','Eccentric connectivity (ECCc)','Eccentricity (ECC)','Average eccentricity (AECC)','Eccentric (DECC)','Valence connectivity index chi-0 (vX0)','Valence connectivity index chi-1 (vX1)','Valence connectivity index chi-2 (vX2)','Valence connectivity index chi-3 (vX3)','Valence connectivity index chi-4 (vX4)','Valence connectivity index chi-5 (vX5)','Average valence connectivity index chi-0 (AvX0)','Average valence connectivity index chi-1 (AvX1)','Average valence connectivity index chi-2 (AvX2)','Average valence connectivity index chi-3 (AvX3)','Average valence connectivity index chi-4 (AvX4)','Average valence connectivity index chi-5 (AvX5)','Quasi Wiener (QW)','First Mohar (FM)','Second Mohar (SM)','Spanning tree number (STN)','Kier benzene-likeliness index (KBLI)','Topological charge index of order 1 (TCI1)','Topological charge index of order 2 (TCI2)','Topological charge index of order 3 (TCI3)','Topological charge index of order 4 (TCI4)','Topological charge index of order 5 (TCI5)','Topological charge index of order 6 (TCI6)','Topological charge index of order 7 (TCI7)','Topological charge index of order 8 (TCI8)','Topological charge index of order 9 (TCI9)','Topological charge index of order 10 (TCI10)','Mean topological charge index of order 1 (MTCI1)','Mean topological charge index of order 2 (MTCI2)','Mean topological charge index of order 3 (MTCI3)','Mean topological charge index of order 4 (MTCI4)','Mean topological charge index of order 5 (MTCI5)','Mean topological charge index of order 6 (MTCI6)','Mean topological charge index of order 7 (MTCI7)','Mean topological charge index of order 8 (MTCI8)','Mean topological charge index of order 9 (MTCI9)','Mean topological charge index of order 10 (MTCI10)','Global topological charge (GTC)','Hyper-distance-path index (HDPI)','Reciprocal hyper-distance-path index (RHDPI)','Square reciprocal distance sum (SRDS)','Modified Randic connectivity (MRC)','Balaban centric (BC)','Lopping centric (LC)','Kier Hall electronegativity (KHE)','Sum of topological distances between N..N (STD(N N))','Sum of topological distances between N..O (STD(N O))','Sum of topological distances between N..S (STD(N S))','Sum of topological distances between N..P (STD(N P))','Sum of topological distances between N..F (STD(N F))','Sum of topological distances between N..Cl (STD(N Cl))','Sum of topological distances between N..Br (STD(N Br))','Sum of topological distances between N..I (STD(N I))','Sum of topological distances between O..O (STD(O O))','Sum of topological distances between O..S (STD(O S))','Sum of topological distances between O..P (STD(O P))','Sum of topological distances between O..F (STD(O F))','Sum of topological distances between O..Cl (STD(O Cl))','Sum of topological distances between O..Br (STD(O Br))','Sum of topological distances between O..I (STD(O I))','Sum of topological distances between S..S (STD(S S))','Sum of topological distances between S..P (STD(S P))','Sum of topological distances between S..F (STD(S F))','Sum of topological distances between S..Cl (STD(S Cl))','Sum of topological distances between S..Br (STD(S Br))','Sum of topological distances between S..I (STD(S I))','Sum of topological distances between P..P (STD(P P))','Sum of topological distances between P..F (STD(P F))','Sum of topological distances between P..Cl (STD(P Cl))','Sum of topological distances between P..Br (STD(P Br))','Sum of topological distances between P..I (STD(P I))','Sum of topological distances between F..F (STD(F F))','Sum of topological distances between F..Cl (STD(F Cl))','Sum of topological distances between F..Br (STD(F Br))','Sum of topological distances between F..I (STD(F I))','Sum of topological distances between Cl..Cl (STD(Cl Cl))','Sum of topological distances between Cl..Br (STD(Cl Br))','Sum of topological distances between Cl..I (STD(Cl I))','Sum of topological distances between Br..Br (STD(Br Br))','Sum of topological distances between Br..I (STD(Br I))','Sum of topological distances between I..I (STD(I I))','Wiener-type index from Z weighted distance matrix - Barysz matrix (WhetZ)','Wiener-type index from electronegativity weighted distance matrix (Whete)','Wiener-type index from mass weighted distance matrix (Whetm)','Wiener-type index from van der waals weighted distance matrix (Whetv)','Wiener-type index from polarizability weighted distance matrix (Whetp)','Balaban-type index from Z weighted distance matrix - Barysz matrix (JhetZ)','Balaban-type index from electronegativity weighted distance matrix (Jhete)','Balaban-type index from mass weighted distance matrix (Jhetm)','Balaban-type index from van der waals weighted distance matrix (Jhetv)','Balaban-type index from polarizability weighted distance matrix (Jhetp)','Topological diameter (TD)','Topological radius (TR)','Petitjean 2D shape (PJ2DS)','Balaban distance connectivity index (J)','Solvation connectivity index chi-0 (SCIX0)','Solvation connectivity index chi-1 (SCIX1)','Solvation connectivity index chi-2 (SCIX2)','Solvation connectivity index chi-3 (SCIX3)','Solvation connectivity index chi-4 (SCIX4)','Solvation connectivity index chi-5 (SCIX5)','Connectivity index chi-0 (CIX0)','Connectivity chi-1 [Randic connectivity] (CIX1)','Connectivity index chi-2 (CIX2)','Connectivity index chi-3 (CIX3)','Connectivity index chi-4 (CIX4)','Connectivity index chi-5 (CIX5)','Average connectivity index chi-0 (ACIX0)','Average connectivity index chi-1 (ACIX1)','Average connectivity index chi-2 (ACIX2)','Average connectivity index chi-3 (ACIX3)','Average connectivity index chi-4 (ACIX4)','Average connectivity index chi-5 (ACIX5)','reciprocal distance Randic-type index (RDR)','reciprocal distance square Randic-type index (RDSR)','1-path Kier alpha-modified shape index (KAMS1)','2-path Kier alpha-modified shape index (KAMS2)','3-path Kier alpha-modified shape index (KAMS3)','Kier flexibility (KF)','path/walk 2 - Randic shape index (RSIpw2)','path/walk 3 - Randic shape index (RSIpw3)','path/walk 4 - Randic shape index (RSIpw4)','path/walk 5 - Randic shape index (RSIpw5)','E-state topological parameter (ETP)','Ring Count 3 (RNGCNT3)','Ring Count 4 (RNGCNT4)','Ring Count 5 (RNGCNT5)','Ring Count 6 (RNGCNT6)','Ring Count 7 (RNGCNT7)','Ring Count 8 (RNGCNT8)','Ring Count 9 (RNGCNT9)','Ring Count 10 (RNGCNT10)','Ring Count 11 (RNGCNT11)','Ring Count 12 (RNGCNT12)','Ring Count 13 (RNGCNT13)','Ring Count 14 (RNGCNT14)','Ring Count 15 (RNGCNT15)','Ring Count 16 (RNGCNT16)','Ring Count 17 (RNGCNT17)','Ring Count 18 (RNGCNT18)','Ring Count 19 (RNGCNT19)','Ring Count 20 (RNGCNT20)','Atom Count (ATMCNT)','Bond Count (BNDCNT)','Atoms in Ring System (ATMRNGCNT)','Bonds in Ring System (BNDRNGCNT)','Cyclomatic number (CYCLONUM)','Number of ring systems (NRS)','Normalized number of ring systems (NNRS)','Ring Fusion degree (RFD)','Ring perimeter (RNGPERM)','Ring bridge count (RNGBDGE)','Molecule cyclized degree (MCD)','Ring Fusion density (RFDELTA)','Ring complexity index (RCI)','Van der Waals surface area (VSA)','MR1 (MR1)','MR2 (MR2)','MR3 (MR3)','MR4 (MR4)','MR5 (MR5)','MR6 (MR6)','MR7 (MR7)','MR8 (MR8)','ALOGP1 (ALOGP1)','ALOGP2 (ALOGP2)','ALOGP3 (ALOGP3)','ALOGP4 (ALOGP4)','ALOGP5 (ALOGP5)','ALOGP6 (ALOGP6)','ALOGP7 (ALOGP7)','ALOGP8 (ALOGP8)','ALOGP9 (ALOGP9)','ALOGP10 (ALOGP10)','PEOE1 (PEOE1)','PEOE2 (PEOE2)','PEOE3 (PEOE3)','PEOE4 (PEOE4)','PEOE5 (PEOE5)','PEOE6 (PEOE6)','PEOE7 (PEOE7)','PEOE8 (PEOE8)','PEOE9 (PEOE9)','PEOE10 (PEOE10)','PEOE11 (PEOE11)','PEOE12 (PEOE12)','PEOE13 (PEOE13)','PEOE14 (PEOE14)']\n",
        "\n",
        "import shutil\n",
        "\n",
        "featurizer = dc.feat.UserDefinedFeaturizer(user_specified_features)\n",
        "loader = dc.data.UserCSVLoader(\n",
        "      tasks=[\"Class\"], smiles_field=\"mol\", id_field=\"mol\",\n",
        "      featurizer=featurizer)\n",
        "dataset = loader.featurize(dataset_file)\n",
        "crystal_dataset = loader.featurize(crystal_dataset_file)\n",
        "\n",
        "#This data is already split into three subsets “Train” and “Test” with 20% and 80% respectively of the total data from the BACE enzyme.\n",
        "#There is also a “Validation” set that contains data from a separate (but related assay). (Note that these names are really misnomers.\n",
        "#The “Test” set would be called a validation set in standard machine-learning practice and the “Validation” set would typically be called an external test set.)\n",
        "#Hence, we will rename the datasets after loading them.\n",
        "\n",
        "splitter = dc.splits.SpecifiedSplitter(dataset_file, \"Model\")\n",
        "train_dataset, valid_dataset, test_dataset = splitter.train_valid_test_split(\n",
        "    dataset)\n",
        "#NOTE THE RENAMING:\n",
        "valid_dataset, test_dataset = test_dataset, valid_dataset\n",
        "\n",
        "#Let’s quickly take a look at a compound in the validation set. (The compound displayed earlier was drawn from the train set).\n",
        "\n",
        "print(valid_dataset.ids)\n",
        "valid_mols = [Chem.MolFromSmiles(compound)\n",
        "              for compound in islice(valid_dataset.ids, num_to_display)]\n",
        "display_images(mols_to_pngs(valid_mols, basename=\"valid_set\"))\n",
        "\n",
        "#Let’s now write these datasets to disk\n",
        "\n",
        "print(\"Number of compounds in train set\")\n",
        "print(len(train_dataset))\n",
        "print(\"Number of compounds in validation set\")\n",
        "print(len(valid_dataset))\n",
        "print(\"Number of compounds in test set\")\n",
        "print(len(test_dataset))\n",
        "print(\"Number of compounds in crystal set\")\n",
        "print(len(crystal_dataset))\n",
        "\n",
        "#The performance of common machine-learning algorithms can be very sensitive to preprocessing of the data.\n",
        "#One common transformation applied to data is to normalize it to have zero-mean and unit-standard-deviation.\n",
        "# We will apply this transformation to the pIC50 values (as seen above, the pIC50s range from 2 to 11).\n",
        "\n",
        "transformers = [\n",
        "    dc.trans.NormalizationTransformer(transform_X=True, dataset=train_dataset),\n",
        "    dc.trans.ClippingTransformer(transform_X=True, dataset=train_dataset)]\n",
        "\n",
        "datasets = [train_dataset, valid_dataset, test_dataset, crystal_dataset]\n",
        "for i, dataset in enumerate(datasets):\n",
        "  for transformer in transformers:\n",
        "      datasets[i] = transformer.transform(dataset)\n",
        "train_dataset, valid_dataset, test_dataset, crystal_dataset = datasets\n",
        "\n",
        "\n",
        "#We now fit simple random forest models to our datasets.\n",
        "\n",
        "from sklearn.ensemble import RandomForestClassifier\n",
        "\n",
        "def rf_model_builder(model_params, model_dir):\n",
        "  sklearn_model = RandomForestClassifier(**model_params)\n",
        "  return dc.models.SklearnModel(sklearn_model, model_dir)\n",
        "params_dict = {\n",
        "    \"n_estimators\": [10, 100],\n",
        "    \"max_features\": [\"auto\", \"sqrt\", \"log2\", None],\n",
        "}\n",
        "\n",
        "metric = dc.metrics.Metric(dc.metrics.roc_auc_score)\n",
        "optimizer = dc.hyper.HyperparamOpt(rf_model_builder)\n",
        "best_rf, best_rf_hyperparams, all_rf_results = optimizer.hyperparam_search(\n",
        "    params_dict, train_dataset, valid_dataset, transformers,\n",
        "    metric=metric)\n",
        "\n",
        "\n",
        "\n",
        "params_dict = {\"learning_rate\": np.power(10., np.random.uniform(-5, -3, size=1)),\n",
        "               \"weight_decay_penalty\": np.power(10, np.random.uniform(-6, -4, size=1)),\n",
        "               \"nb_epoch\": [40] }\n",
        "n_features = train_dataset.get_data_shape()[0]\n",
        "def model_builder(model_params, model_dir):\n",
        "  model = dc.models.MultitaskClassifier(\n",
        "    1, n_features, layer_sizes=[1000], dropouts=.25,\n",
        "    batch_size=50, **model_params)\n",
        "  return model\n",
        "\n",
        "optimizer = dc.hyper.HyperparamOpt(model_builder)\n",
        "best_dnn, best_dnn_hyperparams, all_dnn_results = optimizer.hyperparam_search(\n",
        "    params_dict, train_dataset, valid_dataset, transformers,\n",
        "    metric=metric)\n",
        "\n",
        "#Now let’s evaluate the best model on the validation and test sets and save the results to a new .csv dataset.\n",
        "\n",
        "from deepchem.utils.evaluate import Evaluator\n",
        "\n",
        "rf_train_csv_out = \"rf_train_regressor.csv\"\n",
        "rf_train_stats_out = \"rf_train_stats_regressor.txt\"\n",
        "rf_train_evaluator = Evaluator(best_rf, train_dataset, transformers)\n",
        "rf_train_score = rf_train_evaluator.compute_model_performance(\n",
        "    [metric], rf_train_csv_out, rf_train_stats_out)\n",
        "print(\"RF Train set AUC %f\" % (rf_train_score[\"roc_auc_score\"]))\n",
        "\n",
        "rf_valid_csv_out = \"rf_valid_regressor.csv\"\n",
        "rf_valid_stats_out = \"rf_valid_stats_regressor.txt\"\n",
        "rf_valid_evaluator = Evaluator(best_rf, valid_dataset, transformers)\n",
        "rf_valid_score = rf_valid_evaluator.compute_model_performance(\n",
        "    [metric], rf_valid_csv_out, rf_valid_stats_out)\n",
        "print(\"RF Valid set AUC %f\" % (rf_valid_score[\"roc_auc_score\"]))\n",
        "\n",
        "rf_test_csv_out = \"rf_test_regressor.csv\"\n",
        "rf_test_stats_out = \"rf_test_stats_regressor.txt\"\n",
        "rf_test_evaluator = Evaluator(best_rf, test_dataset, transformers)\n",
        "rf_test_score = rf_test_evaluator.compute_model_performance(\n",
        "    [metric], rf_test_csv_out, rf_test_stats_out)\n",
        "print(\"RF Test set AUC %f\" % (rf_test_score[\"roc_auc_score\"]))\n",
        "\n",
        "rf_crystal_csv_out = \"rf_crystal_regressor.csv\"\n",
        "rf_crystal_stats_out = \"rf_crystal_stats_regressor.txt\"\n",
        "rf_crystal_evaluator = Evaluator(best_rf, crystal_dataset, transformers)\n",
        "rf_crystal_score = rf_crystal_evaluator.compute_model_performance(\n",
        "    [metric], rf_crystal_csv_out, rf_crystal_stats_out)\n",
        "print(\"RF Crystal set R^2 %f\" % (rf_crystal_score[\"roc_auc_score\"]))\n",
        "\n",
        "\n",
        "\n",
        "dnn_train_csv_out = \"dnn_train_classifier.csv\"\n",
        "dnn_train_stats_out = \"dnn_train_classifier_stats.txt\"\n",
        "dnn_train_evaluator = Evaluator(best_dnn, train_dataset, transformers)\n",
        "dnn_train_score = dnn_train_evaluator.compute_model_performance(\n",
        "    [metric], dnn_train_csv_out, dnn_train_stats_out)\n",
        "print(\"DNN Train set AUC %f\" % (dnn_train_score[\"roc_auc_score\"]))\n",
        "\n",
        "dnn_valid_csv_out = \"dnn_valid_classifier.csv\"\n",
        "dnn_valid_stats_out = \"dnn_valid_classifier_stats.txt\"\n",
        "dnn_valid_evaluator = Evaluator(best_dnn, valid_dataset, transformers)\n",
        "dnn_valid_score = dnn_valid_evaluator.compute_model_performance(\n",
        "    [metric], dnn_valid_csv_out, dnn_valid_stats_out)\n",
        "print(\"DNN Valid set AUC %f\" % (dnn_valid_score[\"roc_auc_score\"]))\n",
        "\n",
        "dnn_test_csv_out = \"dnn_test_classifier.csv\"\n",
        "dnn_test_stats_out = \"dnn_test_classifier_stats.txt\"\n",
        "dnn_test_evaluator = Evaluator(best_dnn, test_dataset, transformers)\n",
        "dnn_test_score = dnn_test_evaluator.compute_model_performance(\n",
        "    [metric], dnn_test_csv_out, dnn_test_stats_out)\n",
        "print(\"DNN Test set AUC %f\" % (dnn_test_score[\"roc_auc_score\"]))\n",
        "\n",
        "dnn_crystal_csv_out = \"dnn_crystal_classifier.csv\"\n",
        "dnn_crystal_stats_out = \"dnn_crystal_stats_classifier.txt\"\n",
        "dnn_crystal_evaluator = Evaluator(best_dnn, crystal_dataset, transformers)\n",
        "dnn_crystal_score = dnn_crystal_evaluator.compute_model_performance(\n",
        "    [metric], dnn_crystal_csv_out, dnn_crystal_stats_out)\n",
        "print(\"DNN Crystal set AUC %f\" % (dnn_crystal_score[\"roc_auc_score\"]))\n",
        "\n",
        "\n",
        "#Make directories store the raw and featurized datasets.\n",
        "featurizer = dc.feat.UserDefinedFeaturizer(user_specified_features)\n",
        "loader = dc.data.UserCSVLoader(\n",
        "    tasks=[\"pIC50\"], smiles_field=\"mol\", id_field=\"CID\",\n",
        "    featurizer=featurizer)\n",
        "dataset = loader.featurize(dataset_file)\n",
        "crystal_dataset = loader.featurize(crystal_dataset_file)\n",
        "\n",
        "\n",
        "splitter = dc.splits.SpecifiedSplitter(dataset_file, \"Model\")\n",
        "train_dataset, valid_dataset, test_dataset = splitter.train_valid_test_split(\n",
        "    dataset)\n",
        "#NOTE THE RENAMING:\n",
        "valid_dataset, test_dataset = test_dataset, valid_dataset\n",
        "\n",
        "print(\"Number of compounds in train set\")\n",
        "print(len(train_dataset))\n",
        "print(\"Number of compounds in validation set\")\n",
        "print(len(valid_dataset))\n",
        "print(\"Number of compounds in test set\")\n",
        "print(len(test_dataset))\n",
        "print(\"Number of compounds in crystal set\")\n",
        "print(len(crystal_dataset))\n",
        "\n",
        "\n",
        "\n",
        "transformers = [\n",
        "    dc.trans.NormalizationTransformer(transform_X=True, dataset=train_dataset),\n",
        "    dc.trans.ClippingTransformer(transform_X=True, dataset=train_dataset)]\n",
        "\n",
        "datasets = [train_dataset, valid_dataset, test_dataset, crystal_dataset]\n",
        "for i, dataset in enumerate(datasets):\n",
        "  for transformer in transformers:\n",
        "      datasets[i] = transformer.transform(dataset)\n",
        "train_dataset, valid_dataset, test_dataset, crystal_dataset = datasets\n",
        "\n",
        "\n",
        "\n",
        "\n",
        "from sklearn.ensemble import RandomForestRegressor\n",
        "\n",
        "def rf_model_builder(model_params, model_dir):\n",
        "  sklearn_model = RandomForestRegressor(**model_params)\n",
        "  return dc.models.SklearnModel(sklearn_model, model_dir)\n",
        "params_dict = {\n",
        "    \"n_estimators\": [10, 100],\n",
        "    \"max_features\": [\"auto\", \"sqrt\", \"log2\", None],\n",
        "}\n",
        "\n",
        "metric = dc.metrics.Metric(dc.metrics.r2_score)\n",
        "optimizer = dc.hyper.HyperparamOpt(rf_model_builder)\n",
        "best_rf, best_rf_hyperparams, all_rf_results = optimizer.hyperparam_search(\n",
        "    params_dict, train_dataset, valid_dataset, transformers,\n",
        "    metric=metric)\n",
        "\n",
        "\n",
        "params_dict = {\"learning_rate\": np.power(10., np.random.uniform(-5, -3, size=2)),\n",
        "               \"weight_decay_penalty\": np.power(10, np.random.uniform(-6, -4, size=2)),\n",
        "               \"nb_epoch\": [20] }\n",
        "n_features = train_dataset.get_data_shape()[0]\n",
        "def model_builder(model_params, model_dir):\n",
        "  model = dc.models.MultitaskRegressor(\n",
        "    1, n_features, layer_sizes=[1000], dropouts=[.25],\n",
        "    batch_size=50, **model_params)\n",
        "  return model\n",
        "\n",
        "optimizer = dc.hyper.HyperparamOpt(model_builder)\n",
        "best_dnn, best_dnn_hyperparams, all_dnn_results = optimizer.hyperparam_search(\n",
        "    params_dict, train_dataset, valid_dataset, transformers,\n",
        "    metric=metric)\n",
        "\n",
        "\n",
        "\n",
        "\n",
        "\n",
        "rf_train_csv_out = \"rf_train_regressor.csv\"\n",
        "rf_train_stats_out = \"rf_train_stats_regressor.txt\"\n",
        "rf_train_evaluator = Evaluator(best_rf, train_dataset, transformers)\n",
        "rf_train_score = rf_train_evaluator.compute_model_performance(\n",
        "    [metric], rf_train_csv_out, rf_train_stats_out)\n",
        "print(\"RF Train set R^2 %f\" % (rf_train_score[\"r2_score\"]))\n",
        "\n",
        "rf_valid_csv_out = \"rf_valid_regressor.csv\"\n",
        "rf_valid_stats_out = \"rf_valid_stats_regressor.txt\"\n",
        "rf_valid_evaluator = Evaluator(best_rf, valid_dataset, transformers)\n",
        "rf_valid_score = rf_valid_evaluator.compute_model_performance(\n",
        "    [metric], rf_valid_csv_out, rf_valid_stats_out)\n",
        "print(\"RF Valid set R^2 %f\" % (rf_valid_score[\"r2_score\"]))\n",
        "\n",
        "rf_test_csv_out = \"rf_test_regressor.csv\"\n",
        "rf_test_stats_out = \"rf_test_stats_regressor.txt\"\n",
        "rf_test_evaluator = Evaluator(best_rf, test_dataset, transformers)\n",
        "rf_test_score = rf_test_evaluator.compute_model_performance(\n",
        "    [metric], rf_test_csv_out, rf_test_stats_out)\n",
        "print(\"RF Test set R^2 %f\" % (rf_test_score[\"r2_score\"]))\n",
        "\n",
        "rf_crystal_csv_out = \"rf_crystal_regressor.csv\"\n",
        "rf_crystal_stats_out = \"rf_crystal_stats_regressor.txt\"\n",
        "rf_crystal_evaluator = Evaluator(best_rf, crystal_dataset, transformers)\n",
        "rf_crystal_score = rf_crystal_evaluator.compute_model_performance(\n",
        "    [metric], rf_crystal_csv_out, rf_crystal_stats_out)\n",
        "print(\"RF Crystal set R^2 %f\" % (rf_crystal_score[\"r2_score\"]))\n",
        "\n",
        "\n",
        "\n",
        "\n",
        "dnn_train_csv_out = \"dnn_train_regressor.csv\"\n",
        "dnn_train_stats_out = \"dnn_train_regressor_stats.txt\"\n",
        "dnn_train_evaluator = Evaluator(best_dnn, train_dataset, transformers)\n",
        "dnn_train_score = dnn_train_evaluator.compute_model_performance(\n",
        "    [metric], dnn_train_csv_out, dnn_train_stats_out)\n",
        "print(\"DNN Train set R^2 %f\" % (dnn_train_score[\"r2_score\"]))\n",
        "\n",
        "dnn_valid_csv_out = \"dnn_valid_regressor.csv\"\n",
        "dnn_valid_stats_out = \"dnn_valid_regressor_stats.txt\"\n",
        "dnn_valid_evaluator = Evaluator(best_dnn, valid_dataset, transformers)\n",
        "dnn_valid_score = dnn_valid_evaluator.compute_model_performance(\n",
        "    [metric], dnn_valid_csv_out, dnn_valid_stats_out)\n",
        "print(\"DNN Valid set R^2 %f\" % (dnn_valid_score[\"r2_score\"]))\n",
        "\n",
        "dnn_test_csv_out = \"dnn_test_regressor.csv\"\n",
        "dnn_test_stats_out = \"dnn_test_regressor_stats.txt\"\n",
        "dnn_test_evaluator = Evaluator(best_dnn, test_dataset, transformers)\n",
        "dnn_test_score = dnn_test_evaluator.compute_model_performance(\n",
        "    [metric], dnn_test_csv_out, dnn_test_stats_out)\n",
        "print(\"DNN Test set R^2 %f\" % (dnn_test_score[\"r2_score\"]))\n",
        "\n",
        "dnn_crystal_csv_out = \"dnn_crystal_regressor.csv\"\n",
        "dnn_crystal_stats_out = \"dnn_crystal_stats_regressor.txt\"\n",
        "dnn_crystal_evaluator = Evaluator(best_dnn, crystal_dataset, transformers)\n",
        "dnn_crystal_score = dnn_crystal_evaluator.compute_model_performance(\n",
        "    [metric], dnn_crystal_csv_out, dnn_crystal_stats_out)\n",
        "print(\"DNN Crystal set R^2 %f\" % (dnn_crystal_score[\"r2_score\"]))\n",
        "\n",
        "\n",
        "\n",
        "\n",
        "task = \"pIC50\"\n",
        "rf_predicted_test = best_rf.predict(test_dataset)\n",
        "rf_true_test = test_dataset.y\n",
        "plot.scatter(rf_predicted_test, rf_true_test)\n",
        "plot.xlabel('Predicted pIC50s')\n",
        "plot.ylabel('Secondary Assay')\n",
        "plot.title(r'RF predicted IC50 vs. Secondary Assay')\n",
        "plot.xlim([2, 11])\n",
        "plot.ylim([2, 11])\n",
        "plot.plot([2, 11], [2, 11], color='k')\n",
        "plot.show()\n",
        "\n",
        "\n",
        "\n",
        "dnn_predicted_test = best_dnn.predict(test_dataset, transformers)\n",
        "dnn_true_test = test_dataset.y\n",
        "plot.scatter(dnn_predicted_test, dnn_true_test)\n",
        "plot.xlabel('Predicted pIC50s')\n",
        "plot.ylabel('Secondary Assay')\n",
        "plot.title(r'DNN predicted IC50 vs. Secondary Assay')\n",
        "plot.xlim([2, 11])\n",
        "plot.ylim([2, 11])\n",
        "plot.plot([2, 11], [2, 11], color='k')\n",
        "plot.show()"
      ],
      "execution_count": 0,
      "outputs": [
        {
          "output_type": "stream",
          "text": [
            "Columns of dataset: ['mol','CID','Class','Model','pIC50','MW','AlogP','HBA','HBD','RB',...]\n",
            "Number of examples in dataset: 1522\n",
            "Number of examples in crystal dataset: 25\n"
          ],
          "name": "stdout"
        },
        {
          "output_type": "display_data",
          "data": {
            "image/png": "[encoded data removed]",
            "text/plain": [
              "<IPython.core.display.Image object>"
            ]
          },
          "metadata": {
            "tags": []
          }
        },
        {
          "output_type": "display_data",
          "data": {
            "image/png": "[encoded data removed]",
            "text/plain": [
              "<IPython.core.display.Image object>"
            ]
          },
          "metadata": {
            "tags": []
          }
        },
        {
          "output_type": "display_data",
          "data": {
            "image/png": "[encoded data removed]",
            "text/plain": [
              "<IPython.core.display.Image object>"
            ]
          },
          "metadata": {
            "tags": []
          }
        },
        {
          "output_type": "display_data",
          "data": {
            "image/png": "[encoded data removed]",
            "text/plain": [
              "<IPython.core.display.Image object>"
            ]
          },
          "metadata": {
            "tags": []
          }
        },
        {
          "output_type": "display_data",
          "data": {
            "image/png": "[encoded data removed]",
            "text/plain": [
              "<IPython.core.display.Image object>"
            ]
          },
          "metadata": {
            "tags": []
          }
        },
        {
          "output_type": "display_data",
          "data": {
            "image/png": "[encoded data removed]",
            "text/plain": [
              "<IPython.core.display.Image object>"
            ]
          },
          "metadata": {
            "tags": []
          }
        },
        {
          "output_type": "display_data",
          "data": {
            "image/png": "[encoded data removed]",
            "text/plain": [
              "<IPython.core.display.Image object>"
            ]
          },
          "metadata": {
            "tags": []
          }
        },
        {
          "output_type": "display_data",
          "data": {
            "image/png": "[encoded data removed]",
            "text/plain": [
              "<IPython.core.display.Image object>"
            ]
          },
          "metadata": {
            "tags": []
          }
        },
        {
          "output_type": "display_data",
          "data": {
            "image/png": "[encoded data removed]",
            "text/plain": [
              "<IPython.core.display.Image object>"
            ]
          },
          "metadata": {
            "tags": []
          }
        },
        {
          "output_type": "display_data",
          "data": {
            "image/png": "[encoded data removed]",
            "text/plain": [
              "<IPython.core.display.Image object>"
            ]
          },
          "metadata": {
            "tags": []
          }
        },
        {
          "output_type": "display_data",
          "data": {
            "image/png": "[encoded data removed]",
            "text/plain": [
              "<IPython.core.display.Image object>"
            ]
          },
          "metadata": {
            "tags": []
          }
        },
        {
          "output_type": "display_data",
          "data": {
            "image/png": "[encoded data removed]",
            "text/plain": [
              "<IPython.core.display.Image object>"
            ]
          },
          "metadata": {
            "tags": []
          }
        },
        {
          "output_type": "display_data",
          "data": {
            "image/png": "[encoded data removed]",
            "text/plain": [
              "<IPython.core.display.Image object>"
            ]
          },
          "metadata": {
            "tags": []
          }
        },
        {
          "output_type": "display_data",
          "data": {
            "image/png": "[encoded data removed]",
            "text/plain": [
              "<IPython.core.display.Image object>"
            ]
          },
          "metadata": {
            "tags": []
          }
        },
        {
          "output_type": "display_data",
          "data": {
            "image/png": "[encoded data removed]",
            "text/plain": [
              "<IPython.core.display.Image object>"
            ]
          },
          "metadata": {
            "tags": []
          }
        },
        {
          "output_type": "display_data",
          "data": {
            "image/png": "[encoded data removed]",
            "text/plain": [
              "<IPython.core.display.Image object>"
            ]
          },
          "metadata": {
            "tags": []
          }
        },
        {
          "output_type": "display_data",
          "data": {
            "image/png": "[encoded data removed]",
            "text/plain": [
              "<IPython.core.display.Image object>"
            ]
          },
          "metadata": {
            "tags": []
          }
        },
        {
          "output_type": "display_data",
          "data": {
            "image/png": "[encoded data removed]",
            "text/plain": [
              "<IPython.core.display.Image object>"
            ]
          },
          "metadata": {
            "tags": []
          }
        },
        {
          "output_type": "display_data",
          "data": {
            "image/png": "[encoded data removed]",
            "text/plain": [
              "<IPython.core.display.Image object>"
            ]
          },
          "metadata": {
            "tags": []
          }
        },
        {
          "output_type": "display_data",
          "data": {
            "image/png": "[encoded data removed]",
            "text/plain": [
              "<IPython.core.display.Image object>"
            ]
          },
          "metadata": {
            "tags": []
          }
        },
        {
          "output_type": "display_data",
          "data": {
            "image/png": "[encoded data removed]",
            "text/plain": [
              "<IPython.core.display.Image object>"
            ]
          },
          "metadata": {
            "tags": []
          }
        },
        {
          "output_type": "display_data",
          "data": {
            "image/png": "[encoded data removed]",
            "text/plain": [
              "<IPython.core.display.Image object>"
            ]
          },
          "metadata": {
            "tags": []
          }
        },
        {
          "output_type": "display_data",
          "data": {
            "image/png": "[encoded data removed]",
            "text/plain": [
              "<IPython.core.display.Image object>"
            ]
          },
          "metadata": {
            "tags": []
          }
        },
        {
          "output_type": "display_data",
          "data": {
            "image/png": "[encoded data removed]",
            "text/plain": [
              "<IPython.core.display.Image object>"
            ]
          },
          "metadata": {
            "tags": []
          }
        },
        {
          "output_type": "display_data",
          "data": {
            "image/png": "[encoded data removed]",
            "text/plain": [
              "<Figure size 432x288 with 1 Axes>"
            ]
          },
          "metadata": {
            "tags": []
          }
        },
        {
          "output_type": "stream",
          "text": [
            "Loading raw samples now.\n",
            "shard_size: 8192\n",
            "About to start loading CSV from desc_canvas_aug30.csv\n",
            "Loading shard 1 of size 8192.\n"
          ],
          "name": "stdout"
        },
        {
          "output_type": "stream",
          "text": [
            "/usr/local/lib/python3.6/site-packages/deepchem/data/data_loader.py:126: FutureWarning: Method .as_matrix will be removed in a future version. Use .values instead.\n",
            "  X_shard = df.as_matrix(columns=featurizer.feature_fields)\n"
          ],
          "name": "stderr"
        },
        {
          "output_type": "stream",
          "text": [
            "TIMING: user specified processing took 0.142 s\n",
            "TIMING: featurizing shard 0 took 0.166 s\n",
            "TIMING: dataset construction took 0.626 s\n",
            "Loading dataset from disk.\n",
            "Loading raw samples now.\n",
            "shard_size: 8192\n",
            "About to start loading CSV from crystal_desc_canvas_aug30.csv\n",
            "Loading shard 1 of size 8192.\n",
            "TIMING: user specified processing took 0.106 s\n",
            "TIMING: featurizing shard 0 took 0.107 s\n",
            "TIMING: dataset construction took 0.144 s\n",
            "Loading dataset from disk.\n"
          ],
          "name": "stdout"
        },
        {
          "output_type": "stream",
          "text": [
            "/usr/local/lib/python3.6/site-packages/deepchem/data/data_loader.py:126: FutureWarning: Method .as_matrix will be removed in a future version. Use .values instead.\n",
            "  X_shard = df.as_matrix(columns=featurizer.feature_fields)\n"
          ],
          "name": "stderr"
        },
        {
          "output_type": "stream",
          "text": [
            "TIMING: dataset construction took 0.049 s\n",
            "Loading dataset from disk.\n",
            "TIMING: dataset construction took 0.034 s\n",
            "Loading dataset from disk.\n",
            "TIMING: dataset construction took 0.126 s\n",
            "Loading dataset from disk.\n",
            "['S(=O)(=O)(N(C)c1cc(cc(c1)C(=O)NC(C(O)CC(OC)C(=O)NC(C(C)C)C(=O)NCc1ccccc1)COc1cc(F)cc(F)c1)C(=O)NC(C)c1ccccc1)C'\n",
            " 'O=C(NCCC(C)(C)C)C(Cc1cc2cc(ccc2nc1N)-c1ccccc1C)C'\n",
            " 'Fc1cc(cc(F)c1)CC(NC(=O)C(N1CCC(NC(=O)C)(C(CC)C)C1=O)CCc1ccccc1)C(O)C1[NH2+]CC(O)C1'\n",
            " ... 'Brc1cc(ccc1)C1CC1C=1N=C(N)N(C)C(=O)C=1'\n",
            " 'O=C1N(C)C(=NC(=C1)C1CC1c1cc(ccc1)-c1ccccc1)N'\n",
            " 'Clc1cc2nc(n(c2cc1)CCCC(=O)NCC1CC1)N']\n"
          ],
          "name": "stdout"
        },
        {
          "output_type": "display_data",
          "data": {
            "image/png": "[encoded data removed]",
            "text/plain": [
              "<IPython.core.display.Image object>"
            ]
          },
          "metadata": {
            "tags": []
          }
        },
        {
          "output_type": "display_data",
          "data": {
            "image/png": "[encoded data removed]",
            "text/plain": [
              "<IPython.core.display.Image object>"
            ]
          },
          "metadata": {
            "tags": []
          }
        },
        {
          "output_type": "display_data",
          "data": {
            "image/png": "[encoded data removed]",
            "text/plain": [
              "<IPython.core.display.Image object>"
            ]
          },
          "metadata": {
            "tags": []
          }
        },
        {
          "output_type": "display_data",
          "data": {
            "image/png": "[encoded data removed]",
            "text/plain": [
              "<IPython.core.display.Image object>"
            ]
          },
          "metadata": {
            "tags": []
          }
        },
        {
          "output_type": "display_data",
          "data": {
            "image/png": "[encoded data removed]",
            "text/plain": [
              "<IPython.core.display.Image object>"
            ]
          },
          "metadata": {
            "tags": []
          }
        },
        {
          "output_type": "display_data",
          "data": {
            "image/png": "[encoded data removed]",
            "text/plain": [
              "<IPython.core.display.Image object>"
            ]
          },
          "metadata": {
            "tags": []
          }
        },
        {
          "output_type": "display_data",
          "data": {
            "image/png": "[encoded data removed]",
            "text/plain": [
              "<IPython.core.display.Image object>"
            ]
          },
          "metadata": {
            "tags": []
          }
        },
        {
          "output_type": "display_data",
          "data": {
            "image/png": "[encoded data removed]",
            "text/plain": [
              "<IPython.core.display.Image object>"
            ]
          },
          "metadata": {
            "tags": []
          }
        },
        {
          "output_type": "display_data",
          "data": {
            "image/png": "[encoded data removed]",
            "text/plain": [
              "<IPython.core.display.Image object>"
            ]
          },
          "metadata": {
            "tags": []
          }
        },
        {
          "output_type": "display_data",
          "data": {
            "image/png": "[encoded data removed]",
            "text/plain": [
              "<IPython.core.display.Image object>"
            ]
          },
          "metadata": {
            "tags": []
          }
        },
        {
          "output_type": "display_data",
          "data": {
            "image/png": "[encoded data removed]",
            "text/plain": [
              "<IPython.core.display.Image object>"
            ]
          },
          "metadata": {
            "tags": []
          }
        },
        {
          "output_type": "display_data",
          "data": {
            "image/png": "[encoded data removed]",
            "text/plain": [
              "<IPython.core.display.Image object>"
            ]
          },
          "metadata": {
            "tags": []
          }
        },
        {
          "output_type": "stream",
          "text": [
            "Number of compounds in train set\n",
            "204\n",
            "Number of compounds in validation set\n",
            "1273\n",
            "Number of compounds in test set\n",
            "45\n",
            "Number of compounds in crystal set\n",
            "25\n",
            "TIMING: dataset construction took 0.029 s\n",
            "Loading dataset from disk.\n",
            "TIMING: dataset construction took 0.017 s\n",
            "Loading dataset from disk.\n"
          ],
          "name": "stdout"
        },
        {
          "output_type": "stream",
          "text": [
            "/usr/local/lib/python3.6/site-packages/deepchem/trans/transformers.py:148: RuntimeWarning: invalid value encountered in true_divide\n",
            "  X = np.nan_to_num((X - self.X_means) / self.X_stds)\n",
            "/usr/local/lib/python3.6/site-packages/deepchem/trans/transformers.py:148: RuntimeWarning: divide by zero encountered in true_divide\n",
            "  X = np.nan_to_num((X - self.X_means) / self.X_stds)\n"
          ],
          "name": "stderr"
        },
        {
          "output_type": "stream",
          "text": [
            "TIMING: dataset construction took 0.140 s\n",
            "Loading dataset from disk.\n",
            "TIMING: dataset construction took 0.085 s\n",
            "Loading dataset from disk.\n",
            "TIMING: dataset construction took 0.009 s\n",
            "Loading dataset from disk.\n",
            "TIMING: dataset construction took 0.008 s\n",
            "Loading dataset from disk.\n",
            "TIMING: dataset construction took 0.006 s\n",
            "Loading dataset from disk.\n",
            "TIMING: dataset construction took 0.006 s\n",
            "Loading dataset from disk.\n",
            "Fitting model 1/8\n",
            "hyperparameters: {'n_estimators': 10, 'max_features': 'auto'}\n",
            "computed_metrics: [0.7567109159372785]\n",
            "Model 1/8, Metric roc_auc_score, Validation set 0: 0.756711\n",
            "\tbest_validation_score so far: 0.756711\n",
            "Fitting model 2/8\n",
            "hyperparameters: {'n_estimators': 10, 'max_features': 'sqrt'}\n",
            "computed_metrics: [0.7337490133778424]\n",
            "Model 2/8, Metric roc_auc_score, Validation set 1: 0.733749\n",
            "\tbest_validation_score so far: 0.756711\n",
            "Fitting model 3/8\n",
            "hyperparameters: {'n_estimators': 10, 'max_features': 'log2'}\n",
            "computed_metrics: [0.7372656615270147]\n",
            "Model 3/8, Metric roc_auc_score, Validation set 2: 0.737266\n",
            "\tbest_validation_score so far: 0.756711\n",
            "Fitting model 4/8\n",
            "hyperparameters: {'n_estimators': 10, 'max_features': None}\n",
            "computed_metrics: [0.7361131360256596]\n",
            "Model 4/8, Metric roc_auc_score, Validation set 3: 0.736113\n",
            "\tbest_validation_score so far: 0.756711\n",
            "Fitting model 5/8\n",
            "hyperparameters: {'n_estimators': 100, 'max_features': 'auto'}\n",
            "computed_metrics: [0.7774186696562784]\n",
            "Model 5/8, Metric roc_auc_score, Validation set 4: 0.777419\n",
            "\tbest_validation_score so far: 0.777419\n",
            "Fitting model 6/8\n",
            "hyperparameters: {'n_estimators': 100, 'max_features': 'sqrt'}\n",
            "computed_metrics: [0.7844576217504311]\n",
            "Model 6/8, Metric roc_auc_score, Validation set 5: 0.784458\n",
            "\tbest_validation_score so far: 0.784458\n",
            "Fitting model 7/8\n",
            "hyperparameters: {'n_estimators': 100, 'max_features': 'log2'}\n",
            "computed_metrics: [0.7711193699694838]\n",
            "Model 7/8, Metric roc_auc_score, Validation set 6: 0.771119\n",
            "\tbest_validation_score so far: 0.784458\n",
            "Fitting model 8/8\n",
            "hyperparameters: {'n_estimators': 100, 'max_features': None}\n",
            "computed_metrics: [0.7730907290195113]\n",
            "Model 8/8, Metric roc_auc_score, Validation set 7: 0.773091\n",
            "\tbest_validation_score so far: 0.784458\n",
            "computed_metrics: [0.9998077662437523]\n",
            "Best hyperparameters: (100, 'sqrt')\n",
            "train_score: 0.999808\n",
            "validation_score: 0.784458\n",
            "Fitting model 1/1\n",
            "hyperparameters: {'learning_rate': 0.00026732629300329103, 'weight_decay_penalty': 3.3484279108515935e-05, 'nb_epoch': 40}\n",
            "WARNING:tensorflow:From /usr/local/lib/python3.6/dist-packages/tensorflow/python/framework/op_def_library.py:263: colocate_with (from tensorflow.python.framework.ops) is deprecated and will be removed in a future version.\n",
            "Instructions for updating:\n",
            "Colocations handled automatically by placer.\n",
            "WARNING:tensorflow:From /usr/local/lib/python3.6/site-packages/deepchem/models/tensorgraph/layers.py:3717: calling dropout (from tensorflow.python.ops.nn_ops) with keep_prob is deprecated and will be removed in a future version.\n",
            "Instructions for updating:\n",
            "Please use `rate` instead of `keep_prob`. Rate should be set to `rate = 1 - keep_prob`.\n",
            "computed_metrics: [0.7980516411862592]\n",
            "Model 1/1, Metric roc_auc_score, Validation set 0: 0.798052\n",
            "\tbest_validation_score so far: 0.798052\n",
            "computed_metrics: [0.9570357554786622]\n",
            "Best hyperparameters: (0.00026732629300329103, 3.3484279108515935e-05, 40)\n",
            "train_score: 0.957036\n",
            "validation_score: 0.798052\n",
            "computed_metrics: [0.9998077662437523]\n",
            "RF Train set AUC 0.999808\n",
            "computed_metrics: [0.7844576217504311]\n",
            "RF Valid set AUC 0.784458\n",
            "computed_metrics: [0.5681818181818181]\n",
            "RF Test set AUC 0.568182\n",
            "computed_metrics: [nan]\n",
            "RF Crystal set R^2 nan\n"
          ],
          "name": "stdout"
        },
        {
          "output_type": "stream",
          "text": [
            "/usr/local/lib/python3.6/site-packages/deepchem/metrics/__init__.py:312: UserWarning: Error calculating metric roc_auc_score: Only one class present in y_true. ROC AUC score is not defined in that case.\n",
            "  warnings.warn(\"Error calculating metric %s: %s\" % (self.name, e))\n"
          ],
          "name": "stderr"
        },
        {
          "output_type": "stream",
          "text": [
            "computed_metrics: [0.9570357554786622]\n",
            "DNN Train set AUC 0.957036\n",
            "computed_metrics: [0.7980516411862592]\n",
            "DNN Valid set AUC 0.798052\n",
            "computed_metrics: [0.4772727272727273]\n",
            "DNN Test set AUC 0.477273\n",
            "computed_metrics: [nan]\n",
            "DNN Crystal set AUC nan\n",
            "Loading raw samples now.\n",
            "shard_size: 8192\n",
            "About to start loading CSV from desc_canvas_aug30.csv\n"
          ],
          "name": "stdout"
        },
        {
          "output_type": "stream",
          "text": [
            "/usr/local/lib/python3.6/site-packages/deepchem/metrics/__init__.py:312: UserWarning: Error calculating metric roc_auc_score: Only one class present in y_true. ROC AUC score is not defined in that case.\n",
            "  warnings.warn(\"Error calculating metric %s: %s\" % (self.name, e))\n"
          ],
          "name": "stderr"
        },
        {
          "output_type": "stream",
          "text": [
            "Loading shard 1 of size 8192.\n",
            "TIMING: user specified processing took 0.124 s\n",
            "TIMING: featurizing shard 0 took 0.148 s\n"
          ],
          "name": "stdout"
        },
        {
          "output_type": "stream",
          "text": [
            "/usr/local/lib/python3.6/site-packages/deepchem/data/data_loader.py:126: FutureWarning: Method .as_matrix will be removed in a future version. Use .values instead.\n",
            "  X_shard = df.as_matrix(columns=featurizer.feature_fields)\n"
          ],
          "name": "stderr"
        },
        {
          "output_type": "stream",
          "text": [
            "TIMING: dataset construction took 0.397 s\n",
            "Loading dataset from disk.\n",
            "Loading raw samples now.\n",
            "shard_size: 8192\n",
            "About to start loading CSV from crystal_desc_canvas_aug30.csv\n",
            "Loading shard 1 of size 8192.\n",
            "TIMING: user specified processing took 0.111 s\n",
            "TIMING: featurizing shard 0 took 0.111 s\n",
            "TIMING: dataset construction took 0.152 s\n",
            "Loading dataset from disk.\n"
          ],
          "name": "stdout"
        },
        {
          "output_type": "stream",
          "text": [
            "/usr/local/lib/python3.6/site-packages/deepchem/data/data_loader.py:126: FutureWarning: Method .as_matrix will be removed in a future version. Use .values instead.\n",
            "  X_shard = df.as_matrix(columns=featurizer.feature_fields)\n"
          ],
          "name": "stderr"
        },
        {
          "output_type": "stream",
          "text": [
            "TIMING: dataset construction took 0.048 s\n",
            "Loading dataset from disk.\n",
            "TIMING: dataset construction took 0.033 s\n",
            "Loading dataset from disk.\n",
            "TIMING: dataset construction took 0.130 s\n",
            "Loading dataset from disk.\n",
            "Number of compounds in train set\n",
            "204\n",
            "Number of compounds in validation set\n",
            "1273\n",
            "Number of compounds in test set\n",
            "45\n",
            "Number of compounds in crystal set\n",
            "25\n"
          ],
          "name": "stdout"
        },
        {
          "output_type": "stream",
          "text": [
            "/usr/local/lib/python3.6/site-packages/deepchem/trans/transformers.py:148: RuntimeWarning: invalid value encountered in true_divide\n",
            "  X = np.nan_to_num((X - self.X_means) / self.X_stds)\n",
            "/usr/local/lib/python3.6/site-packages/deepchem/trans/transformers.py:148: RuntimeWarning: divide by zero encountered in true_divide\n",
            "  X = np.nan_to_num((X - self.X_means) / self.X_stds)\n"
          ],
          "name": "stderr"
        },
        {
          "output_type": "stream",
          "text": [
            "TIMING: dataset construction took 0.030 s\n",
            "Loading dataset from disk.\n",
            "TIMING: dataset construction took 0.018 s\n",
            "Loading dataset from disk.\n",
            "TIMING: dataset construction took 0.140 s\n",
            "Loading dataset from disk.\n",
            "TIMING: dataset construction took 0.083 s\n",
            "Loading dataset from disk.\n",
            "TIMING: dataset construction took 0.008 s\n",
            "Loading dataset from disk.\n",
            "TIMING: dataset construction took 0.007 s\n",
            "Loading dataset from disk.\n",
            "TIMING: dataset construction took 0.006 s\n",
            "Loading dataset from disk.\n",
            "TIMING: dataset construction took 0.005 s\n",
            "Loading dataset from disk.\n",
            "Fitting model 1/8\n",
            "hyperparameters: {'n_estimators': 10, 'max_features': 'auto'}\n",
            "computed_metrics: [0.19725012877834824]\n",
            "Model 1/8, Metric r2_score, Validation set 0: 0.197250\n",
            "\tbest_validation_score so far: 0.197250\n",
            "Fitting model 2/8\n",
            "hyperparameters: {'n_estimators': 10, 'max_features': 'sqrt'}\n",
            "computed_metrics: [0.15578033494740395]\n",
            "Model 2/8, Metric r2_score, Validation set 1: 0.155780\n",
            "\tbest_validation_score so far: 0.197250\n",
            "Fitting model 3/8\n",
            "hyperparameters: {'n_estimators': 10, 'max_features': 'log2'}\n",
            "computed_metrics: [0.25415546802601496]\n",
            "Model 3/8, Metric r2_score, Validation set 2: 0.254155\n",
            "\tbest_validation_score so far: 0.254155\n",
            "Fitting model 4/8\n",
            "hyperparameters: {'n_estimators': 10, 'max_features': None}\n",
            "computed_metrics: [0.19323126751194863]\n",
            "Model 4/8, Metric r2_score, Validation set 3: 0.193231\n",
            "\tbest_validation_score so far: 0.254155\n",
            "Fitting model 5/8\n",
            "hyperparameters: {'n_estimators': 100, 'max_features': 'auto'}\n",
            "computed_metrics: [0.22875655575164267]\n",
            "Model 5/8, Metric r2_score, Validation set 4: 0.228757\n",
            "\tbest_validation_score so far: 0.254155\n",
            "Fitting model 6/8\n",
            "hyperparameters: {'n_estimators': 100, 'max_features': 'sqrt'}\n",
            "computed_metrics: [0.254615550373124]\n",
            "Model 6/8, Metric r2_score, Validation set 5: 0.254616\n",
            "\tbest_validation_score so far: 0.254616\n",
            "Fitting model 7/8\n",
            "hyperparameters: {'n_estimators': 100, 'max_features': 'log2'}\n",
            "computed_metrics: [0.27803107727184906]\n",
            "Model 7/8, Metric r2_score, Validation set 6: 0.278031\n",
            "\tbest_validation_score so far: 0.278031\n",
            "Fitting model 8/8\n",
            "hyperparameters: {'n_estimators': 100, 'max_features': None}\n",
            "computed_metrics: [0.22804666547301]\n",
            "Model 8/8, Metric r2_score, Validation set 7: 0.228047\n",
            "\tbest_validation_score so far: 0.278031\n",
            "computed_metrics: [0.948432178639011]\n",
            "Best hyperparameters: (100, 'log2')\n",
            "train_score: 0.948432\n",
            "validation_score: 0.278031\n",
            "Fitting model 1/4\n",
            "hyperparameters: {'learning_rate': 4.996552409370549e-05, 'weight_decay_penalty': 1.1249770682126593e-05, 'nb_epoch': 20}\n",
            "WARNING:tensorflow:From /usr/local/lib/python3.6/dist-packages/tensorflow/python/ops/math_ops.py:3066: to_int32 (from tensorflow.python.ops.math_ops) is deprecated and will be removed in a future version.\n",
            "Instructions for updating:\n",
            "Use tf.cast instead.\n",
            "computed_metrics: [0.15339001180341383]\n",
            "Model 1/4, Metric r2_score, Validation set 0: 0.153390\n",
            "\tbest_validation_score so far: 0.153390\n",
            "Fitting model 2/4\n",
            "hyperparameters: {'learning_rate': 4.996552409370549e-05, 'weight_decay_penalty': 4.626740167199494e-05, 'nb_epoch': 20}\n",
            "computed_metrics: [0.14811772557908476]\n",
            "Model 2/4, Metric r2_score, Validation set 1: 0.148118\n",
            "\tbest_validation_score so far: 0.153390\n",
            "Fitting model 3/4\n",
            "hyperparameters: {'learning_rate': 0.0002405036648033848, 'weight_decay_penalty': 1.1249770682126593e-05, 'nb_epoch': 20}\n",
            "computed_metrics: [0.19178705907366922]\n",
            "Model 3/4, Metric r2_score, Validation set 2: 0.191787\n",
            "\tbest_validation_score so far: 0.191787\n",
            "Fitting model 4/4\n",
            "hyperparameters: {'learning_rate': 0.0002405036648033848, 'weight_decay_penalty': 4.626740167199494e-05, 'nb_epoch': 20}\n",
            "computed_metrics: [0.1821239122895939]\n",
            "Model 4/4, Metric r2_score, Validation set 3: 0.182124\n",
            "\tbest_validation_score so far: 0.191787\n",
            "computed_metrics: [0.7061394738423945]\n",
            "Best hyperparameters: (0.0002405036648033848, 1.1249770682126593e-05, 20)\n",
            "train_score: 0.706139\n",
            "validation_score: 0.191787\n",
            "computed_metrics: [0.948432178639011]\n",
            "RF Train set R^2 0.948432\n",
            "computed_metrics: [0.27803107727184906]\n",
            "RF Valid set R^2 0.278031\n",
            "computed_metrics: [0.4632751447847787]\n",
            "RF Test set R^2 0.463275\n",
            "computed_metrics: [nan]\n",
            "RF Crystal set R^2 nan\n",
            "computed_metrics: [0.7061394738423945]\n",
            "DNN Train set R^2 0.706139\n",
            "computed_metrics: [0.19178705907366922]\n",
            "DNN Valid set R^2 0.191787\n",
            "computed_metrics: [0.5368542309772564]\n",
            "DNN Test set R^2 0.536854\n",
            "computed_metrics: [nan]\n",
            "DNN Crystal set R^2 nan\n"
          ],
          "name": "stdout"
        },
        {
          "output_type": "display_data",
          "data": {
            "image/png": "[encoded data removed]",
            "text/plain": [
              "<Figure size 432x288 with 1 Axes>"
            ]
          },
          "metadata": {
            "tags": []
          }
        },
        {
          "output_type": "display_data",
          "data": {
            "image/png": "[encoded data removed]",
            "text/plain": [
              "<Figure size 432x288 with 1 Axes>"
            ]
          },
          "metadata": {
            "tags": []
          }
        }
      ]
    },
    {
      "metadata": {
        "id": "N0vrWhv4SXAm",
        "colab_type": "code",
        "outputId": "c603f1fa-d2de-43a8-f298-1261424c0614",
        "colab": {
          "base_uri": "https://localhost:8080/",
          "height": 486
        }
      },
      "cell_type": "code",
      "source": [
        "from tensorflow.python.client import device_lib\n",
        "device_lib.list_local_devices()"
      ],
      "execution_count": 0,
      "outputs": [
        {
          "output_type": "execute_result",
          "data": {
            "text/plain": [
              "[name: \"/device:CPU:0\"\n",
              " device_type: \"CPU\"\n",
              " memory_limit: 268435456\n",
              " locality {\n",
              " }\n",
              " incarnation: 16861077266969563597, name: \"/device:XLA_CPU:0\"\n",
              " device_type: \"XLA_CPU\"\n",
              " memory_limit: 17179869184\n",
              " locality {\n",
              " }\n",
              " incarnation: 13289663721869503433\n",
              " physical_device_desc: \"device: XLA_CPU device\", name: \"/device:XLA_GPU:0\"\n",
              " device_type: \"XLA_GPU\"\n",
              " memory_limit: 17179869184\n",
              " locality {\n",
              " }\n",
              " incarnation: 15512174984466094799\n",
              " physical_device_desc: \"device: XLA_GPU device\", name: \"/device:GPU:0\"\n",
              " device_type: \"GPU\"\n",
              " memory_limit: 14800692839\n",
              " locality {\n",
              "   bus_id: 1\n",
              "   links {\n",
              "   }\n",
              " }\n",
              " incarnation: 158464110753286612\n",
              " physical_device_desc: \"device: 0, name: Tesla T4, pci bus id: 0000:00:04.0, compute capability: 7.5\"]"
            ]
          },
          "metadata": {
            "tags": []
          },
          "execution_count": 21
        }
      ]
    }
  ]
}